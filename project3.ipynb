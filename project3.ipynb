{
 "cells": [
  {
   "cell_type": "markdown",
   "metadata": {},
   "source": [
    "# Project 3\n",
    "\n",
    "## Part 1\n",
    "\n",
    "Please implement\n",
    "\n",
    "* **HITS** and **PageRank** (Lecture 7, P37, random jumping probability, i.e., damping factor=0.15) and calculate authority, hub and PageRank values for the following 8 graphs\n",
    "    * 6 graphs in project3dataset\n",
    "    * 1 graphs from project1 transaction data (connect items in each row, bi-directed or directed)\n",
    "* **SimRank** to calculate pair-wise similarity of nodes (choice any parameter C you like) , using\n",
    "    * first 5 graphs of project3dataset.\n",
    "\n",
    "project3dataset\n",
    "\n",
    "* graph_1.txt: 6 nodes, 5 edges\n",
    "* graph_2.txt: 5 nodes, 5 edges (a circle)\n",
    "* graph_3.txt: 4 nodes, 6 edges\n",
    "* graph_4.txt: 7 nodes, 18 edges (the example in Lecture3, p29)\n",
    "* graph_5.txt:  469 nodes, 1102 edges\n",
    "* graph_6.txt: 1228 nodes, 5220 edges"
   ]
  },
  {
   "cell_type": "code",
   "execution_count": 1,
   "metadata": {},
   "outputs": [],
   "source": [
    "import numpy as np\n",
    "import matplotlib.pyplot as plt\n",
    "# import pandas as pd"
   ]
  },
  {
   "cell_type": "code",
   "execution_count": 2,
   "metadata": {},
   "outputs": [],
   "source": [
    "# Determine the way floating point numbers, arrays and other NumPy objects are displayed.\n",
    "np.set_printoptions(precision=4)"
   ]
  },
  {
   "cell_type": "code",
   "execution_count": 3,
   "metadata": {},
   "outputs": [],
   "source": [
    "inputfile = open('hw3dataset/data_2_3_5_3_5.data', 'r')"
   ]
  },
  {
   "cell_type": "code",
   "execution_count": 4,
   "metadata": {},
   "outputs": [],
   "source": [
    "outputfile = open('hw3dataset/graph_7.txt', 'w')"
   ]
  },
  {
   "cell_type": "code",
   "execution_count": 5,
   "metadata": {},
   "outputs": [],
   "source": [
    "# outputfile = open('hw3dataset/data_2_3_5_3_5.csv', 'w')\n",
    "# outputfile.write('CustID,TransID,Item\\n')"
   ]
  },
  {
   "cell_type": "code",
   "execution_count": 6,
   "metadata": {},
   "outputs": [],
   "source": [
    "while True:\n",
    "    s = inputfile.readline().rstrip('\\n')\n",
    "    \n",
    "    # if this is the eof\n",
    "    if len(s) == 0:\n",
    "        break\n",
    "        \n",
    "    # Extract dimensions from first line. Cast values to integers from strings.\n",
    "    CustID, TransID, Item = (int(val) for val in s.split())\n",
    "    # output_str = '%d,%d,%d\\n' % (CustID, TransID, Item)\n",
    "    output_str = '%d,%d\\n' % (TransID, Item)\n",
    "    outputfile.write(output_str)"
   ]
  },
  {
   "cell_type": "code",
   "execution_count": 7,
   "metadata": {},
   "outputs": [],
   "source": [
    "inputfile.close()\n",
    "outputfile.close()"
   ]
  },
  {
   "cell_type": "code",
   "execution_count": 8,
   "metadata": {},
   "outputs": [],
   "source": [
    "# df = pd.read_csv('hw3dataset/data_2_3_5_3_5.csv')"
   ]
  },
  {
   "cell_type": "code",
   "execution_count": 9,
   "metadata": {
    "scrolled": true
   },
   "outputs": [],
   "source": [
    "# df.describe()"
   ]
  },
  {
   "cell_type": "code",
   "execution_count": 10,
   "metadata": {},
   "outputs": [],
   "source": [
    "NUM_OF_G1 = 6\n",
    "NUM_OF_G2 = 5\n",
    "NUM_OF_G3 = 4\n",
    "NUM_OF_G4 = 7\n",
    "NUM_OF_G5 = 469\n",
    "NUM_OF_G6 = 1228\n",
    "NUM_OF_G7 = 4995\n",
    "NUM_OF_G8 = 7\n",
    "NUM_OF_G9 = 5"
   ]
  },
  {
   "cell_type": "code",
   "execution_count": 11,
   "metadata": {},
   "outputs": [],
   "source": [
    "graph1 = np.zeros((NUM_OF_G1, NUM_OF_G1), dtype=int)\n",
    "with open('hw3dataset/graph_1.txt', 'r') as f:\n",
    "    for line in f.readlines():\n",
    "        node1, node2 = line.split(',')\n",
    "        node1, node2 = int(node1), int(node2)\n",
    "        node1, node2 = node1 - 1, node2 - 1\n",
    "        graph1[node1, node2] += 1"
   ]
  },
  {
   "cell_type": "code",
   "execution_count": 12,
   "metadata": {},
   "outputs": [],
   "source": [
    "graph2 = np.zeros((NUM_OF_G2, NUM_OF_G2), dtype=int)\n",
    "with open('hw3dataset/graph_2.txt', 'r') as f:\n",
    "    for line in f.readlines():\n",
    "        node1, node2 = line.split(',')\n",
    "        node1, node2 = int(node1), int(node2)\n",
    "        node1, node2 = node1 - 1, node2 - 1\n",
    "        graph2[node1, node2] += 1"
   ]
  },
  {
   "cell_type": "code",
   "execution_count": 13,
   "metadata": {},
   "outputs": [],
   "source": [
    "graph3 = np.zeros((NUM_OF_G3, NUM_OF_G3), dtype=int)\n",
    "with open('hw3dataset/graph_3.txt', 'r') as f:\n",
    "    for line in f.readlines():\n",
    "        node1, node2 = line.split(',')\n",
    "        node1, node2 = int(node1), int(node2)\n",
    "        node1, node2 = node1 - 1, node2 - 1\n",
    "        graph3[node1, node2] += 1"
   ]
  },
  {
   "cell_type": "code",
   "execution_count": 14,
   "metadata": {},
   "outputs": [],
   "source": [
    "graph4 = np.zeros((NUM_OF_G4, NUM_OF_G4), dtype=int)\n",
    "with open('hw3dataset/graph_4.txt', 'r') as f:\n",
    "    for line in f.readlines():\n",
    "        node1, node2 = line.split(',')\n",
    "        node1, node2 = int(node1), int(node2)\n",
    "        node1, node2 = node1 - 1, node2 - 1\n",
    "        graph4[node1, node2] += 1"
   ]
  },
  {
   "cell_type": "code",
   "execution_count": 15,
   "metadata": {},
   "outputs": [],
   "source": [
    "graph5 = np.zeros((NUM_OF_G5, NUM_OF_G5), dtype=int)\n",
    "with open('hw3dataset/graph_5.txt', 'r') as f:\n",
    "    for line in f.readlines():\n",
    "        node1, node2 = line.split(',')\n",
    "        node1, node2 = int(node1), int(node2)\n",
    "        node1, node2 = node1 - 1, node2 - 1\n",
    "        graph5[node1, node2] += 1"
   ]
  },
  {
   "cell_type": "code",
   "execution_count": 16,
   "metadata": {},
   "outputs": [],
   "source": [
    "graph6 = np.zeros((NUM_OF_G6, NUM_OF_G6), dtype=int)\n",
    "with open('hw3dataset/graph_6.txt', 'r') as f:\n",
    "    for line in f.readlines():\n",
    "        node1, node2 = line.split(',')\n",
    "        node1, node2 = int(node1), int(node2)\n",
    "        node1, node2 = node1 - 1, node2 - 1\n",
    "        graph6[node1, node2] += 1"
   ]
  },
  {
   "cell_type": "code",
   "execution_count": 17,
   "metadata": {},
   "outputs": [],
   "source": [
    "graph7 = np.zeros((NUM_OF_G7, NUM_OF_G7), dtype=int)\n",
    "with open('hw3dataset/graph_7.txt', 'r') as f:\n",
    "    for line in f.readlines():\n",
    "        node1, node2 = line.split(',')\n",
    "        node1, node2 = int(node1), int(node2)\n",
    "        node1, node2 = node1 - 1, node2 - 1\n",
    "        graph7[node1, node2] += 1"
   ]
  },
  {
   "cell_type": "code",
   "execution_count": 18,
   "metadata": {},
   "outputs": [],
   "source": [
    "graph8 = np.zeros((NUM_OF_G8, NUM_OF_G8), dtype=int)\n",
    "with open('hw3dataset/graph_8.txt', 'r') as f:\n",
    "    for line in f.readlines():\n",
    "        node1, node2 = line.split(',')\n",
    "        node1, node2 = int(node1), int(node2)\n",
    "        node1, node2 = node1 - 1, node2 - 1\n",
    "        graph8[node1, node2] += 1"
   ]
  },
  {
   "cell_type": "code",
   "execution_count": 19,
   "metadata": {},
   "outputs": [],
   "source": [
    "graph9 = np.zeros((NUM_OF_G9, NUM_OF_G9), dtype=int)\n",
    "with open('hw3dataset/graph_9.txt', 'r') as f:\n",
    "    for line in f.readlines():\n",
    "        node1, node2 = line.split(',')\n",
    "        node1, node2 = int(node1), int(node2)\n",
    "        node1, node2 = node1 - 1, node2 - 1\n",
    "        graph9[node1, node2] += 1"
   ]
  },
  {
   "cell_type": "code",
   "execution_count": 20,
   "metadata": {},
   "outputs": [],
   "source": [
    "def HubsAuthorities(graph, epsilon=1e-4):\n",
    "    row, col = graph.shape\n",
    "    pre_ath = pre_hub = np.ones(row)\n",
    "    epsilon_matrix = epsilon * np.ones(row)\n",
    "    while True:\n",
    "        ath = np.dot(pre_hub, graph)    # Sum of parents' hubs\n",
    "        hub = np.dot(pre_ath, graph.T)  # Sum of children's authorities\n",
    "        ath_nor = ath.max()\n",
    "        hub_nor = hub.max()\n",
    "        if ath_nor != 0:\n",
    "            ath /= ath_nor\n",
    "        if hub_nor != 0:\n",
    "            hub /= hub_nor\n",
    "        if (((abs(hub - pre_hub)) < epsilon_matrix).all()) and (((abs(ath - pre_ath)) < epsilon_matrix).all()):\n",
    "            break\n",
    "        pre_ath = ath\n",
    "        pre_hub = hub\n",
    "    return ath, hub"
   ]
  },
  {
   "cell_type": "code",
   "execution_count": 21,
   "metadata": {},
   "outputs": [
    {
     "name": "stdout",
     "output_type": "stream",
     "text": [
      "[0. 1. 1. 1. 1. 1.]\n",
      "[1. 1. 1. 1. 1. 0.]\n"
     ]
    }
   ],
   "source": [
    "authority, hub = HubsAuthorities(graph1)\n",
    "print(authority)\n",
    "print(hub)"
   ]
  },
  {
   "cell_type": "code",
   "execution_count": 22,
   "metadata": {},
   "outputs": [
    {
     "name": "stdout",
     "output_type": "stream",
     "text": [
      "[1. 1. 1. 1. 1.]\n",
      "[1. 1. 1. 1. 1.]\n"
     ]
    }
   ],
   "source": [
    "authority, hub = HubsAuthorities(graph2)\n",
    "print(authority)\n",
    "print(hub)"
   ]
  },
  {
   "cell_type": "code",
   "execution_count": 23,
   "metadata": {},
   "outputs": [
    {
     "name": "stdout",
     "output_type": "stream",
     "text": [
      "[0.6181 1.     1.     0.6181]\n",
      "[0.6181 1.     1.     0.6181]\n"
     ]
    }
   ],
   "source": [
    "authority, hub = HubsAuthorities(graph3)\n",
    "print(authority)\n",
    "print(hub)"
   ]
  },
  {
   "cell_type": "code",
   "execution_count": 24,
   "metadata": {},
   "outputs": [
    {
     "name": "stdout",
     "output_type": "stream",
     "text": [
      "[0.6926 0.8833 0.997  0.696  1.     0.2785 0.4175]\n",
      "[1.     0.1734 0.3946 0.7212 0.6671 0.4238 0.2504]\n"
     ]
    }
   ],
   "source": [
    "authority, hub = HubsAuthorities(graph4)\n",
    "print(authority)\n",
    "print(hub)"
   ]
  },
  {
   "cell_type": "code",
   "execution_count": 25,
   "metadata": {
    "scrolled": false
   },
   "outputs": [
    {
     "name": "stdout",
     "output_type": "stream",
     "text": [
      "[0.0000e+00 0.0000e+00 0.0000e+00 0.0000e+00 0.0000e+00 3.6172e-11\n",
      " 1.9588e-06 4.9515e-10 7.8766e-16 7.8766e-16 4.9515e-10 1.9588e-06\n",
      " 7.8766e-16 7.8766e-16 1.9588e-06 1.5336e-02 2.0397e-09 5.1432e-02\n",
      " 1.8707e-10 6.4324e-08 7.5889e-07 8.9871e-07 6.4324e-08 1.0966e-06\n",
      " 3.5127e-02 3.8881e-11 3.5952e-11 2.0397e-09 2.0397e-09 3.0768e-18\n",
      " 1.1596e-10 1.9925e-10 3.0768e-18 7.8855e-17 1.7533e-06 1.3843e-02\n",
      " 2.5698e-02 2.7324e-02 6.4324e-08 6.6491e-06 2.0397e-09 6.4324e-08\n",
      " 5.7805e-06 8.8659e-06 2.0397e-09 2.0133e-05 2.7846e-11 3.1955e-02\n",
      " 1.5336e-02 5.2473e-02 1.5336e-02 1.9925e-10 2.0164e-13 1.3843e-02\n",
      " 8.9132e-02 2.0097e-02 3.9466e-10 3.5761e-02 2.0412e-10 1.4246e-05\n",
      " 1.0000e+00 3.9466e-10 3.2610e-10 2.0397e-09 5.1527e-12 2.0164e-13\n",
      " 6.4324e-08 1.6580e-02 5.1620e-11 1.0457e-06 7.9548e-07 7.8855e-17\n",
      " 3.7906e-10 2.0164e-13 2.7324e-02 2.0397e-09 2.0164e-13 2.7324e-02\n",
      " 1.9285e-02 2.0164e-13 8.9132e-02 6.4324e-08 6.4324e-08 6.1931e-06\n",
      " 3.6676e-02 2.0412e-10 2.0164e-13 6.2757e-02 2.7985e-06 1.4960e-11\n",
      " 6.4324e-08 1.4768e-06 3.9466e-10 7.9281e-06 2.7324e-02 1.0343e-05\n",
      " 2.0164e-13 6.4324e-08 2.0164e-13 3.9466e-10 6.4324e-08 1.5336e-02\n",
      " 1.7346e-02 5.8349e-01 3.7270e-11 1.1596e-10 2.0412e-10 3.7906e-10\n",
      " 1.1855e-06 6.4324e-08 6.4324e-08 2.7324e-02 3.1321e-11 9.0309e-09\n",
      " 2.7324e-02 9.0309e-09 2.0164e-13 3.1955e-02 2.0230e-09 5.1620e-11\n",
      " 2.0230e-09 9.8229e-01 1.5336e-02 6.0632e-06 2.7324e-02 2.1626e-11\n",
      " 3.9466e-10 1.4360e-02 1.9925e-10 4.2918e-02 3.5952e-11 6.4324e-08\n",
      " 6.8632e-02 2.9435e-01 1.4360e-02 2.3332e-06 4.3105e-07 5.1620e-11\n",
      " 3.7906e-10 5.0922e-10 1.0387e-01 2.2226e-02 8.8617e-06 6.4324e-08\n",
      " 1.6580e-02 3.9466e-10 1.4360e-02 3.9767e-01 2.0397e-09 1.5336e-02\n",
      " 1.5336e-02 5.8699e-06 1.8707e-10 1.5246e-01 2.7324e-02 1.9285e-02\n",
      " 3.1321e-11 1.9925e-10 1.6014e-02 1.3522e-01 3.9466e-10 3.0768e-18\n",
      " 6.4324e-08 1.0515e-01 1.5336e-02 9.0309e-09 1.0600e-06 9.1589e-10\n",
      " 6.4324e-08 2.0397e-09 1.5224e-02 1.8707e-10 2.0397e-09 6.9621e-02\n",
      " 1.5336e-02 2.7324e-02 6.4324e-08 3.1043e-02 2.7324e-02 2.0412e-10\n",
      " 3.0815e-02 2.7324e-02 5.0922e-10 7.0717e-02 5.1568e-01 2.7324e-02\n",
      " 2.0133e-05 8.8828e-10 3.6382e-11 2.0397e-09 1.6716e-05 8.7403e-12\n",
      " 7.4102e-02 2.3689e-02 2.0412e-10 1.9925e-10 5.1620e-11 3.1955e-02\n",
      " 4.2073e-10 2.0174e-10 3.5952e-11 3.2236e-11 2.0097e-02 6.0009e-06\n",
      " 3.7906e-10 6.4324e-08 5.1527e-12 1.5336e-02 1.6287e-02 6.4324e-08\n",
      " 6.4324e-08 6.0062e-01 2.7324e-02 1.5336e-02 2.0164e-13 1.2737e-01\n",
      " 1.6214e-06 3.9466e-10 1.1101e-10 2.7324e-02 3.1321e-11 1.1596e-10\n",
      " 7.5053e-11 5.1013e-02 5.0922e-10 1.1750e-11 6.9690e-10 5.1620e-11\n",
      " 1.9285e-02 3.9466e-10 1.5336e-02 5.1527e-12 1.3843e-02 1.6014e-02\n",
      " 1.1101e-10 2.2338e-02 3.7906e-10 5.0922e-10 2.0412e-10 5.1620e-11\n",
      " 1.9925e-10 5.1620e-11 2.0397e-09 1.1271e-05 5.0922e-10 1.1750e-11\n",
      " 1.9285e-02 6.4324e-08 4.2150e-02 1.5336e-02 2.2226e-02 6.4324e-08\n",
      " 8.8397e-10 2.7324e-02 2.0397e-09 1.0998e-05 5.1620e-11 8.1990e-06\n",
      " 3.2610e-10 3.7906e-10 2.0097e-02 5.1620e-11 2.0397e-09 9.5407e-10\n",
      " 5.4393e-06 1.9285e-02 8.7403e-12 1.6287e-02 2.0397e-09 1.9925e-10\n",
      " 2.0412e-10 5.1620e-11 2.9960e-06 2.2226e-02 1.5336e-02 2.5763e-12\n",
      " 5.9551e-06 1.0515e-01 2.0862e-06 2.7324e-02 2.0164e-13 5.1864e-01\n",
      " 2.7324e-02 2.0097e-02 2.2633e-02 3.7906e-10 6.6491e-06 1.6014e-02\n",
      " 3.9466e-10 1.9925e-10 4.9019e-11 2.0412e-10 2.7324e-02 6.4324e-08\n",
      " 3.7906e-10 1.1101e-10 7.7756e-02 5.1620e-11 7.5308e-02 3.9320e-06\n",
      " 1.2019e-20 1.9925e-10 3.6676e-02 6.4324e-08 2.0412e-10 4.0946e-06\n",
      " 7.9238e-09 6.4324e-08 2.2796e-09 1.5336e-02 1.4360e-02 2.0412e-10\n",
      " 1.5336e-02 2.0097e-02 9.5017e-02 2.0397e-09 1.4360e-02 3.7906e-10\n",
      " 2.0397e-09 3.1043e-02 1.9367e-06 1.9925e-10 6.7513e-09 1.9925e-10\n",
      " 4.4076e-01 1.5144e-01 5.8611e-06 2.0397e-09 2.7324e-02 7.8855e-17\n",
      " 4.8946e-06 3.0768e-18 6.4324e-08 5.0922e-10 5.1620e-11 1.1101e-10\n",
      " 1.6014e-02 5.0922e-10 6.4324e-08 6.4324e-08 3.1321e-11 5.0922e-10\n",
      " 4.8535e-02 1.6214e-06 3.1321e-11 5.1620e-11 2.0164e-13 4.5170e-01\n",
      " 1.4960e-11 9.0309e-09 1.6214e-06 6.4324e-08 3.5299e-02 3.7906e-10\n",
      " 3.9466e-10 2.0397e-09 6.4324e-08 5.0922e-10 2.3689e-02 5.0922e-10\n",
      " 2.0397e-09 3.9466e-10 5.1754e-06 2.0412e-10 6.4324e-08 2.0164e-13\n",
      " 3.1321e-11 5.0922e-10 3.3771e-07 2.0412e-10 2.7324e-02 4.5122e-11\n",
      " 3.7906e-10 1.5336e-02 1.5336e-02 3.7906e-10 2.0397e-09 3.9466e-10\n",
      " 5.0922e-10 1.5199e-05 1.5902e-01 5.0922e-10 3.1321e-11 5.1620e-11\n",
      " 4.3070e-11 5.0396e-06 2.0164e-13 3.7906e-10 2.5763e-12 7.0079e-09\n",
      " 1.5336e-02 3.1321e-11 6.4324e-08 2.2796e-09 2.2796e-09 1.1596e-10\n",
      " 2.0412e-10 1.4757e-05 2.7846e-11 5.1620e-11 2.2390e-09 6.4324e-08\n",
      " 6.4324e-08 1.1610e-01 5.1620e-11 5.8173e-10 5.1527e-12 4.3070e-11\n",
      " 2.0412e-10 1.4360e-02 2.0862e-06 8.3469e-02 4.4488e-06 4.2073e-10\n",
      " 8.4495e-02 2.2226e-02 1.9925e-10 6.4324e-08 3.1321e-11 1.1750e-11\n",
      " 7.9548e-07 4.3105e-07 2.0397e-09 3.0768e-18 1.6287e-02 5.1013e-02\n",
      " 6.4324e-08 1.4360e-02 3.6402e-02 6.4324e-08 2.0164e-13 5.0922e-10\n",
      " 1.9121e-09 2.7324e-02 2.0862e-06 2.2268e-05 2.0412e-10 6.4324e-08\n",
      " 3.0162e-06 2.2226e-02 2.0397e-09 2.0397e-09 1.7346e-02 2.2268e-05\n",
      " 1.2886e-11 2.0412e-10 2.0412e-10 3.8881e-11 3.3091e-06 2.7324e-02\n",
      " 5.3449e-02 3.9466e-10 5.0922e-10 5.9538e-06 2.7324e-02 2.7324e-02\n",
      " 4.5629e-06 2.7324e-02 1.8174e-05 1.5336e-02 6.4324e-08 2.0412e-10\n",
      " 4.4752e-09 1.9925e-10 2.0412e-10 5.1527e-12 2.0164e-13 2.0310e-05\n",
      " 3.0768e-18]\n",
      "[1.3681e-08 1.0695e-14 8.1950e-10 2.5388e-05 7.5205e-05 8.8089e-10\n",
      " 1.2705e-04 0.0000e+00 0.0000e+00 0.0000e+00 1.1252e-08 1.1975e-04\n",
      " 2.0889e-17 0.0000e+00 0.0000e+00 0.0000e+00 0.0000e+00 0.0000e+00\n",
      " 0.0000e+00 0.0000e+00 0.0000e+00 0.0000e+00 0.0000e+00 0.0000e+00\n",
      " 0.0000e+00 0.0000e+00 1.3165e-08 0.0000e+00 0.0000e+00 0.0000e+00\n",
      " 2.2016e-08 0.0000e+00 0.0000e+00 5.2473e-11 0.0000e+00 0.0000e+00\n",
      " 8.8094e-01 7.1173e-01 0.0000e+00 0.0000e+00 0.0000e+00 0.0000e+00\n",
      " 9.3699e-06 0.0000e+00 0.0000e+00 0.0000e+00 1.6527e-10 0.0000e+00\n",
      " 0.0000e+00 0.0000e+00 0.0000e+00 0.0000e+00 0.0000e+00 0.0000e+00\n",
      " 0.0000e+00 5.8716e-01 0.0000e+00 6.8298e-01 0.0000e+00 1.0574e-04\n",
      " 0.0000e+00 0.0000e+00 0.0000e+00 0.0000e+00 0.0000e+00 0.0000e+00\n",
      " 0.0000e+00 0.0000e+00 0.0000e+00 1.1960e-05 0.0000e+00 5.2473e-11\n",
      " 0.0000e+00 0.0000e+00 0.0000e+00 0.0000e+00 0.0000e+00 0.0000e+00\n",
      " 0.0000e+00 0.0000e+00 5.6711e-01 0.0000e+00 0.0000e+00 8.2004e-05\n",
      " 5.8275e-01 0.0000e+00 0.0000e+00 0.0000e+00 0.0000e+00 0.0000e+00\n",
      " 0.0000e+00 0.0000e+00 0.0000e+00 2.6023e-05 7.2396e-01 1.4112e-06\n",
      " 0.0000e+00 0.0000e+00 0.0000e+00 0.0000e+00 0.0000e+00 0.0000e+00\n",
      " 5.3228e-01 0.0000e+00 0.0000e+00 1.6169e-08 0.0000e+00 0.0000e+00\n",
      " 8.0806e-06 0.0000e+00 0.0000e+00 0.0000e+00 1.0433e-09 0.0000e+00\n",
      " 9.0092e-01 0.0000e+00 0.0000e+00 0.0000e+00 6.5032e-08 0.0000e+00\n",
      " 0.0000e+00 0.0000e+00 0.0000e+00 2.0889e-17 0.0000e+00 0.0000e+00\n",
      " 0.0000e+00 0.0000e+00 0.0000e+00 4.9024e-01 5.4759e-12 0.0000e+00\n",
      " 0.0000e+00 7.5389e-01 0.0000e+00 0.0000e+00 0.0000e+00 0.0000e+00\n",
      " 0.0000e+00 0.0000e+00 5.0855e-01 0.0000e+00 2.0889e-17 0.0000e+00\n",
      " 0.0000e+00 0.0000e+00 0.0000e+00 5.1993e-01 0.0000e+00 0.0000e+00\n",
      " 0.0000e+00 3.0081e-05 0.0000e+00 0.0000e+00 0.0000e+00 0.0000e+00\n",
      " 0.0000e+00 0.0000e+00 0.0000e+00 0.0000e+00 0.0000e+00 2.8036e-09\n",
      " 0.0000e+00 0.0000e+00 0.0000e+00 0.0000e+00 0.0000e+00 0.0000e+00\n",
      " 0.0000e+00 0.0000e+00 0.0000e+00 0.0000e+00 0.0000e+00 5.5488e-01\n",
      " 0.0000e+00 9.8891e-01 0.0000e+00 0.0000e+00 7.9638e-01 0.0000e+00\n",
      " 0.0000e+00 8.9065e-01 0.0000e+00 6.5214e-01 7.5103e-01 7.9736e-01\n",
      " 0.0000e+00 0.0000e+00 0.0000e+00 0.0000e+00 0.0000e+00 2.8289e-10\n",
      " 0.0000e+00 0.0000e+00 0.0000e+00 0.0000e+00 0.0000e+00 0.0000e+00\n",
      " 1.5717e-08 0.0000e+00 0.0000e+00 2.4366e-10 0.0000e+00 2.7065e-05\n",
      " 0.0000e+00 0.0000e+00 0.0000e+00 0.0000e+00 0.0000e+00 0.0000e+00\n",
      " 0.0000e+00 7.3532e-01 0.0000e+00 0.0000e+00 0.0000e+00 0.0000e+00\n",
      " 0.0000e+00 0.0000e+00 4.0798e-20 0.0000e+00 3.9829e-10 1.6631e-08\n",
      " 8.1453e-10 8.0155e-01 0.0000e+00 0.0000e+00 4.8880e-09 0.0000e+00\n",
      " 0.0000e+00 0.0000e+00 0.0000e+00 0.0000e+00 0.0000e+00 0.0000e+00\n",
      " 8.0303e-16 7.2396e-01 0.0000e+00 0.0000e+00 0.0000e+00 0.0000e+00\n",
      " 0.0000e+00 0.0000e+00 0.0000e+00 0.0000e+00 0.0000e+00 0.0000e+00\n",
      " 0.0000e+00 0.0000e+00 5.3916e-01 0.0000e+00 0.0000e+00 0.0000e+00\n",
      " 5.1732e-09 9.1008e-01 0.0000e+00 0.0000e+00 0.0000e+00 1.0745e-04\n",
      " 7.4867e-09 0.0000e+00 5.4313e-01 0.0000e+00 0.0000e+00 1.0619e-09\n",
      " 1.8634e-05 0.0000e+00 0.0000e+00 0.0000e+00 0.0000e+00 0.0000e+00\n",
      " 0.0000e+00 0.0000e+00 2.6421e-05 1.0000e+00 0.0000e+00 0.0000e+00\n",
      " 2.7033e-05 0.0000e+00 0.0000e+00 0.0000e+00 0.0000e+00 0.0000e+00\n",
      " 7.9109e-01 5.7681e-01 8.3894e-01 0.0000e+00 0.0000e+00 0.0000e+00\n",
      " 0.0000e+00 0.0000e+00 0.0000e+00 0.0000e+00 9.2519e-01 0.0000e+00\n",
      " 0.0000e+00 0.0000e+00 8.6038e-01 0.0000e+00 8.6084e-01 2.3497e-05\n",
      " 0.0000e+00 0.0000e+00 5.8993e-01 0.0000e+00 0.0000e+00 1.2355e-04\n",
      " 5.3621e-08 0.0000e+00 0.0000e+00 0.0000e+00 0.0000e+00 0.0000e+00\n",
      " 0.0000e+00 0.0000e+00 6.2735e-01 0.0000e+00 0.0000e+00 0.0000e+00\n",
      " 0.0000e+00 0.0000e+00 2.6991e-05 0.0000e+00 6.0459e-08 0.0000e+00\n",
      " 9.0533e-01 8.4645e-01 2.9642e-05 0.0000e+00 0.0000e+00 0.0000e+00\n",
      " 0.0000e+00 0.0000e+00 0.0000e+00 0.0000e+00 0.0000e+00 0.0000e+00\n",
      " 0.0000e+00 0.0000e+00 0.0000e+00 0.0000e+00 0.0000e+00 0.0000e+00\n",
      " 0.0000e+00 2.3856e-05 2.0168e-10 0.0000e+00 0.0000e+00 7.8713e-01\n",
      " 0.0000e+00 0.0000e+00 2.1026e-05 0.0000e+00 0.0000e+00 0.0000e+00\n",
      " 0.0000e+00 0.0000e+00 0.0000e+00 0.0000e+00 0.0000e+00 0.0000e+00\n",
      " 0.0000e+00 0.0000e+00 2.2504e-05 0.0000e+00 0.0000e+00 0.0000e+00\n",
      " 0.0000e+00 0.0000e+00 1.1564e-05 0.0000e+00 7.8696e-01 0.0000e+00\n",
      " 0.0000e+00 0.0000e+00 0.0000e+00 0.0000e+00 0.0000e+00 0.0000e+00\n",
      " 0.0000e+00 1.1423e-04 4.8256e-01 0.0000e+00 0.0000e+00 0.0000e+00\n",
      " 0.0000e+00 2.7319e-05 0.0000e+00 0.0000e+00 0.0000e+00 0.0000e+00\n",
      " 0.0000e+00 0.0000e+00 0.0000e+00 0.0000e+00 0.0000e+00 7.7547e-09\n",
      " 0.0000e+00 0.0000e+00 1.6140e-10 0.0000e+00 0.0000e+00 0.0000e+00\n",
      " 0.0000e+00 0.0000e+00 0.0000e+00 0.0000e+00 0.0000e+00 0.0000e+00\n",
      " 0.0000e+00 0.0000e+00 0.0000e+00 9.6768e-01 1.7100e-05 1.6685e-07\n",
      " 0.0000e+00 8.4645e-01 0.0000e+00 0.0000e+00 0.0000e+00 0.0000e+00\n",
      " 2.3856e-05 0.0000e+00 0.0000e+00 0.0000e+00 0.0000e+00 7.8696e-01\n",
      " 0.0000e+00 0.0000e+00 0.0000e+00 0.0000e+00 0.0000e+00 0.0000e+00\n",
      " 0.0000e+00 0.0000e+00 0.0000e+00 0.0000e+00 0.0000e+00 0.0000e+00\n",
      " 2.5447e-05 7.9736e-01 0.0000e+00 0.0000e+00 6.7486e-01 0.0000e+00\n",
      " 0.0000e+00 0.0000e+00 0.0000e+00 5.4759e-12 0.0000e+00 8.7466e-01\n",
      " 0.0000e+00 0.0000e+00 0.0000e+00 2.0539e-05 0.0000e+00 8.4645e-01\n",
      " 0.0000e+00 6.1431e-01 0.0000e+00 0.0000e+00 0.0000e+00 0.0000e+00\n",
      " 6.0364e-08 0.0000e+00 0.0000e+00 0.0000e+00 0.0000e+00 8.5158e-06\n",
      " 0.0000e+00]\n"
     ]
    }
   ],
   "source": [
    "authority, hub = HubsAuthorities(graph5)\n",
    "print(authority)\n",
    "print(hub)"
   ]
  },
  {
   "cell_type": "code",
   "execution_count": 26,
   "metadata": {},
   "outputs": [
    {
     "name": "stdout",
     "output_type": "stream",
     "text": [
      "[0.0000e+00 2.9685e-02 1.7024e-28 ... 4.9559e-03 4.4904e-01 3.8787e-28]\n",
      "[0.1669 0.     0.     ... 0.     0.6028 0.    ]\n"
     ]
    }
   ],
   "source": [
    "authority, hub = HubsAuthorities(graph6)\n",
    "print(authority)\n",
    "print(hub)"
   ]
  },
  {
   "cell_type": "code",
   "execution_count": 27,
   "metadata": {},
   "outputs": [
    {
     "name": "stdout",
     "output_type": "stream",
     "text": [
      "[0.     0.     0.     ... 0.     0.     0.9803]\n",
      "[0.8738 0.0318 0.7208 ... 0.     0.     0.    ]\n"
     ]
    }
   ],
   "source": [
    "authority, hub = HubsAuthorities(graph7)\n",
    "print(authority)\n",
    "print(hub)"
   ]
  },
  {
   "cell_type": "code",
   "execution_count": 28,
   "metadata": {},
   "outputs": [],
   "source": [
    "def PageRank(graph, d=0.15, epsilon=0.0001):\n",
    "    row, col = graph.shape\n",
    "    L = []\n",
    "    p = []\n",
    "    c = []\n",
    "    for i in range(row):\n",
    "        L.append(np.nonzero(graph[:, i])[0])      # Get node i's parents\n",
    "        children = np.nonzero(graph[i, :])[0]     # Get node i's children\n",
    "        p.append(L[i].shape[0])                   # Number of node i's parents\n",
    "        c.append(children.shape[0])               # Number of node i's children\n",
    "    c = np.array(c)\n",
    "    delta = d / row                               # d: damping factor\n",
    "    x = np.ones(row) / row\n",
    "    z = np.zeros(row)\n",
    "    while max(abs(x - z)) > epsilon:\n",
    "        z = x\n",
    "        x = np.zeros(row)\n",
    "        for i in range(row):\n",
    "            if p[i] != 0:                         # If node i has at least one parent\n",
    "                x[i] = np.sum(z[L[i]] / c[L[i]])   \n",
    "        x = delta + (1 - d) * x\n",
    "    return x "
   ]
  },
  {
   "cell_type": "code",
   "execution_count": 29,
   "metadata": {},
   "outputs": [
    {
     "data": {
      "text/plain": [
       "array([0.025 , 0.0462, 0.0643, 0.0797, 0.0927, 0.1038])"
      ]
     },
     "execution_count": 29,
     "metadata": {},
     "output_type": "execute_result"
    }
   ],
   "source": [
    "PageRank(graph1)"
   ]
  },
  {
   "cell_type": "code",
   "execution_count": 30,
   "metadata": {},
   "outputs": [
    {
     "data": {
      "text/plain": [
       "array([0.2, 0.2, 0.2, 0.2, 0.2])"
      ]
     },
     "execution_count": 30,
     "metadata": {},
     "output_type": "execute_result"
    }
   ],
   "source": [
    "PageRank(graph2)"
   ]
  },
  {
   "cell_type": "code",
   "execution_count": 31,
   "metadata": {},
   "outputs": [
    {
     "data": {
      "text/plain": [
       "array([0.1755, 0.3245, 0.3245, 0.1755])"
      ]
     },
     "execution_count": 31,
     "metadata": {},
     "output_type": "execute_result"
    }
   ],
   "source": [
    "PageRank(graph3)"
   ]
  },
  {
   "cell_type": "code",
   "execution_count": 32,
   "metadata": {},
   "outputs": [
    {
     "data": {
      "text/plain": [
       "array([0.2803, 0.1588, 0.1389, 0.1082, 0.1842, 0.0606, 0.0691])"
      ]
     },
     "execution_count": 32,
     "metadata": {},
     "output_type": "execute_result"
    }
   ],
   "source": [
    "PageRank(graph4)"
   ]
  },
  {
   "cell_type": "code",
   "execution_count": 33,
   "metadata": {
    "scrolled": false
   },
   "outputs": [
    {
     "data": {
      "text/plain": [
       "array([0.0003, 0.0003, 0.0003, 0.0003, 0.0003, 0.0004, 0.0003, 0.0004,\n",
       "       0.0004, 0.0004, 0.0004, 0.0003, 0.0004, 0.0004, 0.0003, 0.0003,\n",
       "       0.0003, 0.0004, 0.0004, 0.0003, 0.0008, 0.0008, 0.0003, 0.0009,\n",
       "       0.0004, 0.0004, 0.0004, 0.0003, 0.0003, 0.0005, 0.0004, 0.0003,\n",
       "       0.0005, 0.0004, 0.0005, 0.0004, 0.0004, 0.0003, 0.0003, 0.0008,\n",
       "       0.0003, 0.0003, 0.0008, 0.001 , 0.0003, 0.0005, 0.0004, 0.0004,\n",
       "       0.0003, 0.0004, 0.0003, 0.0003, 0.0004, 0.0004, 0.0004, 0.0003,\n",
       "       0.0003, 0.0004, 0.0003, 0.0005, 0.0029, 0.0003, 0.0005, 0.0003,\n",
       "       0.0004, 0.0004, 0.0003, 0.0003, 0.0003, 0.0005, 0.0004, 0.0004,\n",
       "       0.0003, 0.0004, 0.0003, 0.0003, 0.0004, 0.0003, 0.0003, 0.0004,\n",
       "       0.0004, 0.0003, 0.0003, 0.0004, 0.0004, 0.0003, 0.0004, 0.0004,\n",
       "       0.0004, 0.0004, 0.0003, 0.0006, 0.0003, 0.0009, 0.0003, 0.0012,\n",
       "       0.0004, 0.0003, 0.0004, 0.0003, 0.0003, 0.0003, 0.0003, 0.0021,\n",
       "       0.0005, 0.0004, 0.0003, 0.0003, 0.0005, 0.0003, 0.0003, 0.0003,\n",
       "       0.0004, 0.0005, 0.0003, 0.0005, 0.0004, 0.0004, 0.0004, 0.0003,\n",
       "       0.0004, 0.0028, 0.0003, 0.0004, 0.0003, 0.0005, 0.0003, 0.0004,\n",
       "       0.0003, 0.0005, 0.0004, 0.0003, 0.0004, 0.0009, 0.0004, 0.0004,\n",
       "       0.0004, 0.0003, 0.0003, 0.0003, 0.0006, 0.0004, 0.0004, 0.0003,\n",
       "       0.0003, 0.0003, 0.0004, 0.0012, 0.0003, 0.0003, 0.0003, 0.0007,\n",
       "       0.0004, 0.0005, 0.0003, 0.0003, 0.0004, 0.0003, 0.0003, 0.0005,\n",
       "       0.0003, 0.0005, 0.0003, 0.0005, 0.0003, 0.0005, 0.0005, 0.0004,\n",
       "       0.0003, 0.0003, 0.0004, 0.0004, 0.0003, 0.0004, 0.0003, 0.0003,\n",
       "       0.0003, 0.0004, 0.0003, 0.0003, 0.0004, 0.0003, 0.0003, 0.0004,\n",
       "       0.0015, 0.0003, 0.0005, 0.0004, 0.0006, 0.0003, 0.0005, 0.0004,\n",
       "       0.0004, 0.0003, 0.0003, 0.0003, 0.0003, 0.0004, 0.0004, 0.0004,\n",
       "       0.0004, 0.0006, 0.0003, 0.0008, 0.0003, 0.0003, 0.0004, 0.0003,\n",
       "       0.0003, 0.0003, 0.0003, 0.0016, 0.0003, 0.0003, 0.0004, 0.0006,\n",
       "       0.0004, 0.0003, 0.0005, 0.0003, 0.0004, 0.0004, 0.0004, 0.0004,\n",
       "       0.0003, 0.0004, 0.0004, 0.0003, 0.0003, 0.0003, 0.0003, 0.0004,\n",
       "       0.0004, 0.0003, 0.0005, 0.0003, 0.0003, 0.0003, 0.0003, 0.0003,\n",
       "       0.0003, 0.0003, 0.0003, 0.0004, 0.0003, 0.0004, 0.0003, 0.0003,\n",
       "       0.0007, 0.0003, 0.0004, 0.0003, 0.0005, 0.0003, 0.0003, 0.0004,\n",
       "       0.0003, 0.0004, 0.0005, 0.0003, 0.0003, 0.0003, 0.0003, 0.0007,\n",
       "       0.0007, 0.0003, 0.0004, 0.0003, 0.0003, 0.0003, 0.0003, 0.0003,\n",
       "       0.0006, 0.0004, 0.0003, 0.0004, 0.0008, 0.0005, 0.0005, 0.0003,\n",
       "       0.0004, 0.0015, 0.0003, 0.0003, 0.0004, 0.0003, 0.0008, 0.0003,\n",
       "       0.0003, 0.0003, 0.0006, 0.0003, 0.0003, 0.0003, 0.0003, 0.0005,\n",
       "       0.0004, 0.0003, 0.0004, 0.0006, 0.0007, 0.0003, 0.0004, 0.0003,\n",
       "       0.0003, 0.0004, 0.0006, 0.0003, 0.0004, 0.0003, 0.0004, 0.0003,\n",
       "       0.0003, 0.0003, 0.0004, 0.0003, 0.0004, 0.0003, 0.0003, 0.0004,\n",
       "       0.0005, 0.0003, 0.0005, 0.0003, 0.0014, 0.0006, 0.0008, 0.0003,\n",
       "       0.0003, 0.0004, 0.0006, 0.0005, 0.0003, 0.0003, 0.0003, 0.0005,\n",
       "       0.0003, 0.0003, 0.0003, 0.0003, 0.0004, 0.0003, 0.0004, 0.0004,\n",
       "       0.0004, 0.0003, 0.0004, 0.0014, 0.0004, 0.0005, 0.0004, 0.0003,\n",
       "       0.0004, 0.0003, 0.0003, 0.0003, 0.0003, 0.0003, 0.0003, 0.0003,\n",
       "       0.0003, 0.0003, 0.0007, 0.0003, 0.0003, 0.0004, 0.0004, 0.0003,\n",
       "       0.0004, 0.0003, 0.0003, 0.0007, 0.0003, 0.0003, 0.0003, 0.0003,\n",
       "       0.0003, 0.0003, 0.0003, 0.0005, 0.0007, 0.0003, 0.0004, 0.0003,\n",
       "       0.0004, 0.0007, 0.0004, 0.0003, 0.0004, 0.0005, 0.0003, 0.0004,\n",
       "       0.0003, 0.0004, 0.0004, 0.0004, 0.0003, 0.0005, 0.0004, 0.0003,\n",
       "       0.0004, 0.0003, 0.0003, 0.0005, 0.0003, 0.0004, 0.0004, 0.0004,\n",
       "       0.0003, 0.0004, 0.0005, 0.0004, 0.0007, 0.0004, 0.0004, 0.0004,\n",
       "       0.0003, 0.0003, 0.0004, 0.0004, 0.0004, 0.0004, 0.0003, 0.0005,\n",
       "       0.0003, 0.0004, 0.0003, 0.0004, 0.0004, 0.0003, 0.0004, 0.0003,\n",
       "       0.0007, 0.0003, 0.0005, 0.0006, 0.0003, 0.0003, 0.0005, 0.0004,\n",
       "       0.0003, 0.0003, 0.0003, 0.0006, 0.0004, 0.0003, 0.0003, 0.0004,\n",
       "       0.0003, 0.0003, 0.0004, 0.0003, 0.0003, 0.0008, 0.0003, 0.0003,\n",
       "       0.0007, 0.0003, 0.0005, 0.0003, 0.0003, 0.0003, 0.0004, 0.0003,\n",
       "       0.0003, 0.0004, 0.0004, 0.0005, 0.0005])"
      ]
     },
     "execution_count": 33,
     "metadata": {},
     "output_type": "execute_result"
    }
   ],
   "source": [
    "PageRank(graph5)"
   ]
  },
  {
   "cell_type": "code",
   "execution_count": 34,
   "metadata": {},
   "outputs": [
    {
     "data": {
      "text/plain": [
       "array([0.0001, 0.0001, 0.0001, ..., 0.0001, 0.0004, 0.0001])"
      ]
     },
     "execution_count": 34,
     "metadata": {},
     "output_type": "execute_result"
    }
   ],
   "source": [
    "PageRank(graph6)"
   ]
  },
  {
   "cell_type": "code",
   "execution_count": 35,
   "metadata": {},
   "outputs": [
    {
     "data": {
      "text/plain": [
       "array([3.0030e-05, 3.0030e-05, 3.0030e-05, ..., 3.0030e-05, 3.0030e-05,\n",
       "       3.2609e-03])"
      ]
     },
     "execution_count": 35,
     "metadata": {},
     "output_type": "execute_result"
    }
   ],
   "source": [
    "PageRank(graph7)"
   ]
  },
  {
   "cell_type": "code",
   "execution_count": 36,
   "metadata": {},
   "outputs": [],
   "source": [
    "def SimRank(graph, C=0.6, K=5):\n",
    "    '''\n",
    "    Args:\n",
    "        gragh: adjacency matrix\n",
    "        C: dacay factor\n",
    "        K: num of iteration\n",
    "    Return:\n",
    "        SimRank\n",
    "    '''\n",
    "    row, col = graph.shape\n",
    "    s = np.identity(row)     # Init SimRank\n",
    "    parents = []             # Parents of each node\n",
    "    p = []                   # Num of parents of each node\n",
    "    for i in range(row):\n",
    "        tmp = np.nonzero(graph[:, i])[0]\n",
    "        parents.append(tmp)\n",
    "        p.append(tmp.shape[0])\n",
    "    \n",
    "    for k in range(K):\n",
    "        new_s = np.zeros((row, col))          # New SimRank for new iteration\n",
    "        for a in range(row):\n",
    "            for b in range(col):\n",
    "                if a == b:                    # s(a, a) = 1\n",
    "                    new_s[a, b] = 1\n",
    "                    continue\n",
    "                if p[a] == 0 or p[b] == 0:    # Either a or b has no parent, s(a, b) = 0\n",
    "                    new_s[a, b] = 0\n",
    "                    continue\n",
    "                tmp = 0\n",
    "                for i in range(p[a]):\n",
    "                    for j in range(p[b]):\n",
    "                        tmp += s[parents[a][i], parents[b][j]]\n",
    "                new_s[a, b] = C / (p[a] * p[b]) * tmp\n",
    "        s = new_s                             # Overwrite s\n",
    "    return s"
   ]
  },
  {
   "cell_type": "code",
   "execution_count": 37,
   "metadata": {
    "scrolled": true
   },
   "outputs": [
    {
     "data": {
      "text/plain": [
       "array([[1., 0., 0., 0., 0., 0.],\n",
       "       [0., 1., 0., 0., 0., 0.],\n",
       "       [0., 0., 1., 0., 0., 0.],\n",
       "       [0., 0., 0., 1., 0., 0.],\n",
       "       [0., 0., 0., 0., 1., 0.],\n",
       "       [0., 0., 0., 0., 0., 1.]])"
      ]
     },
     "execution_count": 37,
     "metadata": {},
     "output_type": "execute_result"
    }
   ],
   "source": [
    "SimRank(graph1)"
   ]
  },
  {
   "cell_type": "code",
   "execution_count": 38,
   "metadata": {},
   "outputs": [
    {
     "data": {
      "text/plain": [
       "array([[1., 0., 0., 0., 0.],\n",
       "       [0., 1., 0., 0., 0.],\n",
       "       [0., 0., 1., 0., 0.],\n",
       "       [0., 0., 0., 1., 0.],\n",
       "       [0., 0., 0., 0., 1.]])"
      ]
     },
     "execution_count": 38,
     "metadata": {},
     "output_type": "execute_result"
    }
   ],
   "source": [
    "SimRank(graph2)"
   ]
  },
  {
   "cell_type": "code",
   "execution_count": 39,
   "metadata": {},
   "outputs": [
    {
     "data": {
      "text/plain": [
       "array([[1.    , 0.    , 0.4275, 0.    ],\n",
       "       [0.    , 1.    , 0.    , 0.4275],\n",
       "       [0.4275, 0.    , 1.    , 0.    ],\n",
       "       [0.    , 0.4275, 0.    , 1.    ]])"
      ]
     },
     "execution_count": 39,
     "metadata": {},
     "output_type": "execute_result"
    }
   ],
   "source": [
    "SimRank(graph3)"
   ]
  },
  {
   "cell_type": "code",
   "execution_count": 40,
   "metadata": {},
   "outputs": [
    {
     "data": {
      "text/plain": [
       "array([[1.    , 0.1599, 0.1512, 0.1589, 0.1411, 0.2205, 0.0974],\n",
       "       [0.1599, 1.    , 0.2114, 0.1766, 0.2092, 0.0936, 0.2596],\n",
       "       [0.1512, 0.2114, 1.    , 0.2568, 0.1928, 0.2562, 0.2575],\n",
       "       [0.1589, 0.1766, 0.2568, 1.    , 0.1523, 0.3405, 0.3405],\n",
       "       [0.1411, 0.2092, 0.1928, 0.1523, 1.    , 0.0859, 0.2187],\n",
       "       [0.2205, 0.0936, 0.2562, 0.3405, 0.0859, 1.    , 0.081 ],\n",
       "       [0.0974, 0.2596, 0.2575, 0.3405, 0.2187, 0.081 , 1.    ]])"
      ]
     },
     "execution_count": 40,
     "metadata": {},
     "output_type": "execute_result"
    }
   ],
   "source": [
    "SimRank(graph4)"
   ]
  },
  {
   "cell_type": "code",
   "execution_count": 41,
   "metadata": {},
   "outputs": [],
   "source": [
    "# np.set_printoptions(threshold=np.inf)"
   ]
  },
  {
   "cell_type": "code",
   "execution_count": 42,
   "metadata": {},
   "outputs": [
    {
     "data": {
      "text/plain": [
       "array([[1., 0., 0., ..., 0., 0., 0.],\n",
       "       [0., 1., 0., ..., 0., 0., 0.],\n",
       "       [0., 0., 1., ..., 0., 0., 0.],\n",
       "       ...,\n",
       "       [0., 0., 0., ..., 1., 0., 0.],\n",
       "       [0., 0., 0., ..., 0., 1., 0.],\n",
       "       [0., 0., 0., ..., 0., 0., 1.]])"
      ]
     },
     "execution_count": 42,
     "metadata": {},
     "output_type": "execute_result"
    }
   ],
   "source": [
    "SimRank(graph5)"
   ]
  },
  {
   "cell_type": "code",
   "execution_count": 43,
   "metadata": {},
   "outputs": [],
   "source": [
    "# tmp = SimRank(graph5)"
   ]
  },
  {
   "cell_type": "code",
   "execution_count": 44,
   "metadata": {},
   "outputs": [],
   "source": [
    "# print(tmp)"
   ]
  },
  {
   "cell_type": "code",
   "execution_count": 45,
   "metadata": {},
   "outputs": [],
   "source": [
    "# np.sort(tmp)"
   ]
  },
  {
   "cell_type": "code",
   "execution_count": 46,
   "metadata": {},
   "outputs": [],
   "source": [
    "# np.where(tmp == 0.6)"
   ]
  },
  {
   "cell_type": "code",
   "execution_count": null,
   "metadata": {},
   "outputs": [],
   "source": []
  },
  {
   "cell_type": "markdown",
   "metadata": {},
   "source": [
    "## Part 2\n",
    "\n",
    "Find a way (e.g., add/delete some links) to increase hub, authority, and PageRank of Node 1 in first 3 graphs respectively."
   ]
  },
  {
   "cell_type": "markdown",
   "metadata": {},
   "source": [
    "### Graph 1"
   ]
  },
  {
   "cell_type": "code",
   "execution_count": 47,
   "metadata": {},
   "outputs": [
    {
     "name": "stdout",
     "output_type": "stream",
     "text": [
      "[[0 1 0 0 0 0]\n",
      " [0 0 1 0 0 0]\n",
      " [0 0 0 1 0 0]\n",
      " [0 0 0 0 1 0]\n",
      " [0 0 0 0 0 1]\n",
      " [0 0 0 0 0 0]]\n",
      "[0. 1. 1. 1. 1. 1.]\n",
      "[1. 1. 1. 1. 1. 0.]\n",
      "[0.025  0.0462 0.0643 0.0797 0.0927 0.1038]\n"
     ]
    }
   ],
   "source": [
    "print(graph1)\n",
    "\n",
    "o_authority, o_hub = HubsAuthorities(graph1)\n",
    "print(o_authority)\n",
    "print(o_hub)\n",
    "print(PageRank(graph1))"
   ]
  },
  {
   "cell_type": "markdown",
   "metadata": {},
   "source": [
    "#### Increase Hub of Node 1"
   ]
  },
  {
   "cell_type": "code",
   "execution_count": 48,
   "metadata": {},
   "outputs": [
    {
     "name": "stdout",
     "output_type": "stream",
     "text": [
      "[[0 1 0 0 1 0]\n",
      " [0 0 1 0 0 0]\n",
      " [0 0 0 1 0 0]\n",
      " [0 0 0 0 1 0]\n",
      " [0 0 0 0 0 1]\n",
      " [0 0 0 0 0 0]]\n",
      "Original Hub      : [1. 1. 1. 1. 1. 0.]\n",
      "New      Hub      : [1.0000e+00 1.4782e-04 1.4782e-04 6.1803e-01 1.4782e-04 0.0000e+00]\n",
      "Original Authority: [0. 1. 1. 1. 1. 1.]\n",
      "New      Authority: [0.0000e+00 6.1803e-01 1.4782e-04 1.4782e-04 1.0000e+00 1.4782e-04]\n"
     ]
    }
   ],
   "source": [
    "graph1_v2 = np.copy(graph1)\n",
    "graph1_v2[0, 4] = 1\n",
    "print(graph1_v2)\n",
    "\n",
    "authority, hub = HubsAuthorities(graph1_v2)\n",
    "print('Original Hub      :', o_hub)\n",
    "print('New      Hub      :', hub)\n",
    "print('Original Authority:', o_authority)\n",
    "print('New      Authority:', authority)"
   ]
  },
  {
   "cell_type": "markdown",
   "metadata": {},
   "source": [
    "#### Increase Authority of Node 1"
   ]
  },
  {
   "cell_type": "code",
   "execution_count": 49,
   "metadata": {
    "scrolled": true
   },
   "outputs": [
    {
     "name": "stdout",
     "output_type": "stream",
     "text": [
      "[[0 1 0 0 0 0]\n",
      " [0 0 1 0 0 0]\n",
      " [0 0 0 1 0 0]\n",
      " [0 0 0 0 1 0]\n",
      " [0 0 0 0 0 1]\n",
      " [1 0 0 0 0 0]]\n",
      "Original Hub      : [1. 1. 1. 1. 1. 0.]\n",
      "New      Hub      : [1. 1. 1. 1. 1. 1.]\n",
      "Original Authority: [0. 1. 1. 1. 1. 1.]\n",
      "New      Authority: [1. 1. 1. 1. 1. 1.]\n"
     ]
    }
   ],
   "source": [
    "graph1_v3 = np.copy(graph1)\n",
    "graph1_v3[5, 0] = 1\n",
    "print(graph1_v3)\n",
    "\n",
    "authority, hub = HubsAuthorities(graph1_v3)\n",
    "print('Original Hub      :', o_hub)\n",
    "print('New      Hub      :', hub)\n",
    "print('Original Authority:', o_authority)\n",
    "print('New      Authority:', authority)"
   ]
  },
  {
   "cell_type": "markdown",
   "metadata": {},
   "source": [
    "#### Increase PageRank of Node 1"
   ]
  },
  {
   "cell_type": "code",
   "execution_count": 50,
   "metadata": {},
   "outputs": [
    {
     "name": "stdout",
     "output_type": "stream",
     "text": [
      "[[0 1 0 0 0 0]\n",
      " [0 0 1 0 0 0]\n",
      " [0 0 0 1 0 0]\n",
      " [0 0 0 0 1 0]\n",
      " [0 0 0 0 0 1]\n",
      " [1 0 0 0 0 0]]\n",
      "Original PageRank: [0.025  0.0462 0.0643 0.0797 0.0927 0.1038]\n",
      "New      PageRank: [0.1667 0.1667 0.1667 0.1667 0.1667 0.1667]\n"
     ]
    }
   ],
   "source": [
    "graph1_v4 = np.copy(graph1)\n",
    "graph1_v4[5, 0] = 1\n",
    "# graph1_v4[4, 0] = 1\n",
    "# graph1_v4[3, 0] = 1\n",
    "# graph1_v4[2, 0] = 1\n",
    "# graph1_v4[1, 0] = 1\n",
    "print(graph1_v4)\n",
    "\n",
    "print('Original PageRank:', PageRank(graph1))\n",
    "print('New      PageRank:', PageRank(graph1_v4))"
   ]
  },
  {
   "cell_type": "markdown",
   "metadata": {},
   "source": [
    "### Graph 2"
   ]
  },
  {
   "cell_type": "code",
   "execution_count": 51,
   "metadata": {},
   "outputs": [
    {
     "name": "stdout",
     "output_type": "stream",
     "text": [
      "[[0 1 0 0 0]\n",
      " [0 0 1 0 0]\n",
      " [0 0 0 1 0]\n",
      " [0 0 0 0 1]\n",
      " [1 0 0 0 0]]\n",
      "[1. 1. 1. 1. 1.]\n",
      "[1. 1. 1. 1. 1.]\n",
      "[0.2 0.2 0.2 0.2 0.2]\n"
     ]
    }
   ],
   "source": [
    "print(graph2)\n",
    "\n",
    "o_authority, o_hub = HubsAuthorities(graph2)\n",
    "print(o_authority)\n",
    "print(o_hub)\n",
    "print(PageRank(graph2))"
   ]
  },
  {
   "cell_type": "markdown",
   "metadata": {},
   "source": [
    "#### Increase Hub of Node 1"
   ]
  },
  {
   "cell_type": "code",
   "execution_count": 52,
   "metadata": {},
   "outputs": [
    {
     "name": "stdout",
     "output_type": "stream",
     "text": [
      "[[0 1 1 0 0]\n",
      " [0 0 1 0 0]\n",
      " [0 0 0 1 0]\n",
      " [0 0 0 0 1]\n",
      " [1 0 0 0 0]]\n",
      "Original Hub      : [1. 1. 1. 1. 1.]\n",
      "New      Hub      : [1.0000e+00 6.1803e-01 1.4782e-04 1.4782e-04 1.4782e-04]\n",
      "Original Authority: [1. 1. 1. 1. 1.]\n",
      "New      Authority: [1.4782e-04 6.1803e-01 1.0000e+00 1.4782e-04 1.4782e-04]\n"
     ]
    }
   ],
   "source": [
    "graph2_v2 = np.copy(graph2)\n",
    "graph2_v2[0, 2] = 1\n",
    "print(graph2_v2)\n",
    "\n",
    "authority, hub = HubsAuthorities(graph2_v2)\n",
    "print('Original Hub      :', o_hub)\n",
    "print('New      Hub      :', hub)\n",
    "print('Original Authority:', o_authority)\n",
    "print('New      Authority:', authority)"
   ]
  },
  {
   "cell_type": "markdown",
   "metadata": {},
   "source": [
    "#### Increase Authority of Node 1"
   ]
  },
  {
   "cell_type": "code",
   "execution_count": 53,
   "metadata": {},
   "outputs": [
    {
     "name": "stdout",
     "output_type": "stream",
     "text": [
      "[[0 1 0 0 0]\n",
      " [0 0 1 0 0]\n",
      " [1 0 0 1 0]\n",
      " [0 0 0 0 1]\n",
      " [1 0 0 0 0]]\n",
      "Original Hub      : [1. 1. 1. 1. 1.]\n",
      "New      Hub      : [1.4782e-04 1.4782e-04 1.0000e+00 1.4782e-04 6.1803e-01]\n",
      "Original Authority: [1. 1. 1. 1. 1.]\n",
      "New      Authority: [1.0000e+00 1.4782e-04 1.4782e-04 6.1803e-01 1.4782e-04]\n"
     ]
    }
   ],
   "source": [
    "graph2_v3 = np.copy(graph2)\n",
    "graph2_v3[2, 0] = 1\n",
    "print(graph2_v3)\n",
    "\n",
    "authority, hub = HubsAuthorities(graph2_v3)\n",
    "print('Original Hub      :', o_hub)\n",
    "print('New      Hub      :', hub)\n",
    "print('Original Authority:', o_authority)\n",
    "print('New      Authority:', authority)"
   ]
  },
  {
   "cell_type": "markdown",
   "metadata": {},
   "source": [
    "#### Increase PageRank of Node 1"
   ]
  },
  {
   "cell_type": "code",
   "execution_count": 54,
   "metadata": {},
   "outputs": [
    {
     "name": "stdout",
     "output_type": "stream",
     "text": [
      "[[0 1 0 0 0]\n",
      " [1 0 1 0 0]\n",
      " [0 0 0 1 0]\n",
      " [0 0 0 0 1]\n",
      " [1 0 0 0 0]]\n",
      "Original PageRank: [0.2 0.2 0.2 0.2 0.2]\n",
      "New      PageRank: [0.2787 0.2669 0.1434 0.1519 0.1591]\n"
     ]
    }
   ],
   "source": [
    "graph2_v4 = np.copy(graph2)\n",
    "graph2_v4[1, 0] = 1\n",
    "print(graph2_v4)\n",
    "\n",
    "print('Original PageRank:', PageRank(graph2))\n",
    "print('New      PageRank:', PageRank(graph2_v4))"
   ]
  },
  {
   "cell_type": "markdown",
   "metadata": {},
   "source": [
    "### Graph 3"
   ]
  },
  {
   "cell_type": "code",
   "execution_count": 55,
   "metadata": {},
   "outputs": [
    {
     "name": "stdout",
     "output_type": "stream",
     "text": [
      "[[0 1 0 0]\n",
      " [1 0 1 0]\n",
      " [0 1 0 1]\n",
      " [0 0 1 0]]\n",
      "[0.6181 1.     1.     0.6181]\n",
      "[0.6181 1.     1.     0.6181]\n",
      "[0.1755 0.3245 0.3245 0.1755]\n"
     ]
    }
   ],
   "source": [
    "print(graph3)\n",
    "\n",
    "o_authority, o_hub = HubsAuthorities(graph3)\n",
    "print(o_authority)\n",
    "print(o_hub)\n",
    "print(PageRank(graph3))"
   ]
  },
  {
   "cell_type": "markdown",
   "metadata": {},
   "source": [
    "#### Increase Hub of Node 1"
   ]
  },
  {
   "cell_type": "code",
   "execution_count": 56,
   "metadata": {},
   "outputs": [
    {
     "name": "stdout",
     "output_type": "stream",
     "text": [
      "[[0 1 1 0]\n",
      " [1 0 1 0]\n",
      " [0 1 0 1]\n",
      " [0 0 1 0]]\n",
      "Original Hub      : [0.6181 1.     1.     0.6181]\n",
      "New      Hub      : [1.     0.8271 0.5112 0.618 ]\n",
      "Original Authority: [0.6181 1.     1.     0.6181]\n",
      "New      Authority: [0.3382 0.6181 1.     0.2091]\n"
     ]
    }
   ],
   "source": [
    "graph3_v2 = np.copy(graph3)\n",
    "graph3_v2[0, 2] = 1\n",
    "print(graph3_v2)\n",
    "\n",
    "authority, hub = HubsAuthorities(graph3_v2)\n",
    "print('Original Hub      :', o_hub)\n",
    "print('New      Hub      :', hub)\n",
    "print('Original Authority:', o_authority)\n",
    "print('New      Authority:', authority)"
   ]
  },
  {
   "cell_type": "markdown",
   "metadata": {},
   "source": [
    "#### Increase Authority of Node 1"
   ]
  },
  {
   "cell_type": "code",
   "execution_count": 57,
   "metadata": {},
   "outputs": [
    {
     "name": "stdout",
     "output_type": "stream",
     "text": [
      "[[0 1 1 0]\n",
      " [1 0 1 0]\n",
      " [0 1 0 1]\n",
      " [0 0 1 0]]\n",
      "Original Hub      : [0.6181 1.     1.     0.6181]\n",
      "New      Hub      : [0.3382 0.6181 1.     0.2091]\n",
      "Original Authority: [0.6181 1.     1.     0.6181]\n",
      "New      Authority: [1.     0.8271 0.5112 0.618 ]\n"
     ]
    }
   ],
   "source": [
    "graph3_v3 = np.copy(graph3)\n",
    "graph3_v3[2, 0] = 1\n",
    "print(graph3_v2)\n",
    "\n",
    "authority, hub = HubsAuthorities(graph3_v3)\n",
    "print('Original Hub      :', o_hub)\n",
    "print('New      Hub      :', hub)\n",
    "print('Original Authority:', o_authority)\n",
    "print('New      Authority:', authority)"
   ]
  },
  {
   "cell_type": "markdown",
   "metadata": {},
   "source": [
    "#### Increase PageRank of Node 1"
   ]
  },
  {
   "cell_type": "code",
   "execution_count": 58,
   "metadata": {
    "scrolled": true
   },
   "outputs": [
    {
     "name": "stdout",
     "output_type": "stream",
     "text": [
      "[[0 1 0 0]\n",
      " [1 0 1 0]\n",
      " [1 1 0 1]\n",
      " [0 0 1 0]]\n",
      "Original PageRank: [0.1755 0.3245 0.3245 0.1755]\n",
      "New      PageRank: [0.2616 0.3396 0.2815 0.1173]\n"
     ]
    }
   ],
   "source": [
    "graph3_v4 = np.copy(graph3)\n",
    "graph3_v4[2, 0] = 1\n",
    "print(graph3_v4)\n",
    "\n",
    "print('Original PageRank:', PageRank(graph3))\n",
    "print('New      PageRank:', PageRank(graph3_v4))"
   ]
  },
  {
   "cell_type": "code",
   "execution_count": null,
   "metadata": {},
   "outputs": [],
   "source": []
  },
  {
   "cell_type": "code",
   "execution_count": null,
   "metadata": {},
   "outputs": [],
   "source": []
  },
  {
   "cell_type": "markdown",
   "metadata": {},
   "source": [
    "## Part 3\n",
    "\n",
    "Please describe and analysis your results for each algorithm in each graph."
   ]
  },
  {
   "cell_type": "markdown",
   "metadata": {},
   "source": [
    "### Graph 1\n",
    "graph1 因為是從 node1 串接到 node6，所以各點的 PageRank 值是從 node1 一路遞增到 node6。而因為 node2~node5 都各有一個 parent 和一個 child，所以這四個點的 hub, authority 都相同。又因為沒有點有共同的 parent，所以 SimRank 除了自己跟自己是 1 以外，其他都是 0。\n",
    "\n",
    "### Graph 2\n",
    "graph2 是五個點連成的圈，所以 hub, authority, PageRank 都相同。跟 graph1 一樣都沒有點有共同的 parent，所以 SimRank 除了自己跟自己是 1 以外，其他都是 0。\n",
    "\n",
    "### Graph 3\n",
    "graph3 裡的 node1, 4 對稱，node2, 3 對稱。對稱的點有相同的 hub, authority, PageRank。而因為 node2, 3 連到較多的點，所以這兩點的  hub, authority, PageRank 值都比 node1, 4 還大。<br/>\n",
    "node1, 3 有共同的 parent (i.e. node2)，node2, 4 則有共同的 parent (i.e. node3)，所以這兩組的 SimRank 較高。\n",
    "\n",
    "### Graph 4\n",
    "graph4 各點連結情形如下：\n",
    "\n",
    "| Node| Out-Link| In-Link|\n",
    "| --- | ------- | ------ |\n",
    "| 1   | 2, 3, 4, 5, 7| 2, 3, 5, 6|\n",
    "| 2   | 1| 1, 3, 4|\n",
    "| 3   | 1, 2| 1, 4, 5|\n",
    "| 4   | 2, 3, 5| 1, 5|\n",
    "| 5   | 1, 3, 4, 6| 1, 4, 6, 7|\n",
    "| 6   | 1, 5| 5|\n",
    "| 7   | 5| 1|\n",
    "\n",
    "各點之 hub, authority, PageRank 排序如下\n",
    "\n",
    "```\n",
    "Hub 1 > 4 > 5 > 6 > 3 > 7 > 2\n",
    "Aut 5 > 3 > 2 > 4 > 1 > 7 > 6 \n",
    "PR  1 > 5 > 2 > 3 > 4 > 7 > 6\n",
    "```\n",
    "\n",
    "Authority 最大的是 node5，所以 in-link 沒有 node5 的 node2 的 hub 最小。而 node1 的 in-link 則囊括了幾個 authority 最大的 node5, 3, 2，所以 hub 最大。node5, 3, 2 的 out-link 都有 node1, 4 這兩個 hub 最大的點，所以他們的 authority 最大。\n",
    "node1, 5 雖然有相同個數的 in-link，但 node2, 3 的 children都很少，而 node1, 4 的 children則很多，造成 node5 的 PangRank 比較低。 <br/>\n",
    "SimRank 最大的是 node4, 6 與 node4, 7。原因是他們的 in-link 都不多。node4的 in-link 有 node1, 5，其中一個是 node6 的 in-link，另一個是 node7 的 in-link。"
   ]
  },
  {
   "cell_type": "code",
   "execution_count": 59,
   "metadata": {},
   "outputs": [
    {
     "name": "stdout",
     "output_type": "stream",
     "text": [
      "[1.     0.1734 0.3946 0.7212 0.6671 0.4238 0.2504]\n",
      "[0.6926 0.8833 0.997  0.696  1.     0.2785 0.4175]\n"
     ]
    }
   ],
   "source": [
    "authority, hub = HubsAuthorities(graph4)\n",
    "print(hub)\n",
    "print(authority)"
   ]
  },
  {
   "cell_type": "markdown",
   "metadata": {},
   "source": [
    "### Graph 5\n",
    "graph5 當中 hub, authority, PageRank 最大的前 10 點如下所示："
   ]
  },
  {
   "cell_type": "code",
   "execution_count": 60,
   "metadata": {},
   "outputs": [
    {
     "data": {
      "text/plain": [
       "array([274, 176, 412, 293, 254, 325, 115, 182,  37, 450])"
      ]
     },
     "execution_count": 60,
     "metadata": {},
     "output_type": "execute_result"
    }
   ],
   "source": [
    "authority, hub = HubsAuthorities(graph5)\n",
    "np.argsort(-hub)[:10] + 1"
   ]
  },
  {
   "cell_type": "code",
   "execution_count": 61,
   "metadata": {},
   "outputs": [
    {
     "data": {
      "text/plain": [
       "array([ 61, 122, 212, 104, 282, 185, 348, 325, 148, 134])"
      ]
     },
     "execution_count": 61,
     "metadata": {},
     "output_type": "execute_result"
    }
   ],
   "source": [
    "np.argsort(-authority)[:10] + 1"
   ]
  },
  {
   "cell_type": "code",
   "execution_count": 62,
   "metadata": {},
   "outputs": [
    {
     "data": {
      "text/plain": [
       "array([ 61, 122, 104, 212, 282, 185, 325, 348,  96, 148])"
      ]
     },
     "execution_count": 62,
     "metadata": {},
     "output_type": "execute_result"
    }
   ],
   "source": [
    "np.argsort(-PageRank(graph5))[:10] + 1"
   ]
  },
  {
   "cell_type": "markdown",
   "metadata": {},
   "source": [
    "authority 和 PageRank 前幾大的點有高的重疊性，通常是 in-degree 很大的點。而 hub 值很大的點則通常是 out-degree 很大的點，但也不是 out-degree 愈大愈好，與還是與該點指向哪個點有關。以下列出 hub, authority, PageRank 最大的前 3 點他們的 out-degree 和 in-degree：\n",
    "\n",
    "| Node| Out-Degree| In-Degree|\n",
    "| --- | --------- | -------- |\n",
    "| 61  | 0         | 48\n",
    "| 104 | 0         | 27\n",
    "| 122 | 0         | 47\n",
    "| 176 | 9         | 1\n",
    "| 212 | 6         | 25\n",
    "| 274 | 12        | 1\n",
    "| 412 | 38        | 4\n",
    "\n",
    "graph5 當中除了 1 最大的 SimRank 值為 0.6，而且有很多組點，像是 node7, 12，他們有相同且唯一一個的 parent (i.e. node4)。"
   ]
  },
  {
   "cell_type": "code",
   "execution_count": 63,
   "metadata": {},
   "outputs": [],
   "source": [
    "def GetPC(graph):\n",
    "    row, col = graph.shape\n",
    "    parents = []\n",
    "    children = []\n",
    "    p = []\n",
    "    c = []\n",
    "    for i in range(row):\n",
    "        tmp = np.nonzero(graph[:, i])[0]     # Get node i's parents\n",
    "        parents.append(tmp)      \n",
    "        p.append(tmp.shape[0])              # Number of node i's parents\n",
    "        \n",
    "        tmp = np.nonzero(graph[i, :])[0]     # Get node i's children\n",
    "        children.append(tmp)\n",
    "        c.append(tmp.shape[0])               # Number of node i's children\n",
    "    return parents, children, p, c"
   ]
  },
  {
   "cell_type": "code",
   "execution_count": 64,
   "metadata": {},
   "outputs": [],
   "source": [
    "pppp, cccc, ppp, ccc = GetPC(graph5)"
   ]
  },
  {
   "cell_type": "code",
   "execution_count": 65,
   "metadata": {},
   "outputs": [],
   "source": [
    "tmp_d = { i : c for i, c in zip(range(len(ccc)), ccc) }"
   ]
  },
  {
   "cell_type": "code",
   "execution_count": 66,
   "metadata": {},
   "outputs": [],
   "source": [
    "tmp_d = { i : c for i, c in zip(range(len(ppp)), ppp) }"
   ]
  },
  {
   "cell_type": "code",
   "execution_count": 67,
   "metadata": {},
   "outputs": [
    {
     "data": {
      "text/plain": [
       "(array([4]),\n",
       " array([ 45, 123, 142, 186, 190, 255, 257, 379, 397, 435, 443, 448, 458,\n",
       "        467]),\n",
       " array([4]),\n",
       " array([ 45,  59, 186, 190, 243, 379, 397, 435, 443, 458, 467]))"
      ]
     },
     "execution_count": 67,
     "metadata": {},
     "output_type": "execute_result"
    }
   ],
   "source": [
    "pppp[6], cccc[6], pppp[11], cccc[11]"
   ]
  },
  {
   "cell_type": "code",
   "execution_count": 68,
   "metadata": {},
   "outputs": [
    {
     "data": {
      "text/plain": [
       "48"
      ]
     },
     "execution_count": 68,
     "metadata": {},
     "output_type": "execute_result"
    }
   ],
   "source": [
    "tmp_d[60]"
   ]
  },
  {
   "cell_type": "markdown",
   "metadata": {},
   "source": [
    "graph5 各點的 Out-Degree, In-Degree 如圖："
   ]
  },
  {
   "cell_type": "code",
   "execution_count": 69,
   "metadata": {},
   "outputs": [
    {
     "data": {
      "image/png": "[encoded data removed]",
      "text/plain": [
       "<Figure size 1080x504 with 1 Axes>"
      ]
     },
     "metadata": {
      "needs_background": "light"
     },
     "output_type": "display_data"
    }
   ],
   "source": [
    "node_list = [i for i in range(1, NUM_OF_G5 + 1)]\n",
    "\n",
    "plt.figure(figsize=(15, 7))\n",
    "plt.bar(node_list, ccc)\n",
    "plt.title('Out-Degree of each node')\n",
    "plt.show()"
   ]
  },
  {
   "cell_type": "code",
   "execution_count": 70,
   "metadata": {},
   "outputs": [
    {
     "data": {
      "image/png": "[encoded data removed]",
      "text/plain": [
       "<Figure size 1080x504 with 1 Axes>"
      ]
     },
     "metadata": {
      "needs_background": "light"
     },
     "output_type": "display_data"
    }
   ],
   "source": [
    "plt.figure(figsize=(15, 7))\n",
    "plt.bar(node_list, ppp)\n",
    "plt.title('In-Degree of each node')\n",
    "plt.show()"
   ]
  },
  {
   "cell_type": "markdown",
   "metadata": {},
   "source": [
    "### Graph 6\n",
    "graph6 幾個重要的點如下：\n",
    "\n",
    "| Node| Hub | Authority | PageRank | Out-Degree| In-Degree|\n",
    "| --- | --- | --------- | -------- | --------- | -------- |\n",
    "| 171 | 1.0 | 0.1489    | 0.0002 | 47 | 10\n",
    "| 761 | 0.0 | 1.0       | 0.0006 | 0 | 68\n",
    "| 1052| 0.0141 | 0.8092 | 0.0007 | 33 | 89\n",
    "\n",
    "graph6 當中 hub, authority, PageRank 最大的前 10 點如下所示："
   ]
  },
  {
   "cell_type": "code",
   "execution_count": 71,
   "metadata": {},
   "outputs": [
    {
     "data": {
      "text/plain": [
       "array([ 171,  857,  185,   91,   79, 1199,  499,  835,  386,  755])"
      ]
     },
     "execution_count": 71,
     "metadata": {},
     "output_type": "execute_result"
    }
   ],
   "source": [
    "authority, hub = HubsAuthorities(graph6)\n",
    "np.argsort(-hub)[:10] + 1"
   ]
  },
  {
   "cell_type": "code",
   "execution_count": 72,
   "metadata": {},
   "outputs": [
    {
     "data": {
      "text/plain": [
       "array([1151,  761,   62,   78,  394,  863, 1123,  501, 1052,  180])"
      ]
     },
     "execution_count": 72,
     "metadata": {},
     "output_type": "execute_result"
    }
   ],
   "source": [
    "np.argsort(-authority)[:10] + 1"
   ]
  },
  {
   "cell_type": "code",
   "execution_count": 73,
   "metadata": {},
   "outputs": [
    {
     "data": {
      "text/plain": [
       "array([1052, 1151,  761,   62,  394,   78,  863, 1123,  501,  180])"
      ]
     },
     "execution_count": 73,
     "metadata": {},
     "output_type": "execute_result"
    }
   ],
   "source": [
    "np.argsort(-PageRank(graph6))[:10] + 1"
   ]
  },
  {
   "cell_type": "code",
   "execution_count": 74,
   "metadata": {},
   "outputs": [
    {
     "data": {
      "text/plain": [
       "1.0"
      ]
     },
     "execution_count": 74,
     "metadata": {},
     "output_type": "execute_result"
    }
   ],
   "source": [
    "authority[760]"
   ]
  },
  {
   "cell_type": "code",
   "execution_count": 75,
   "metadata": {},
   "outputs": [],
   "source": [
    "pr = PageRank(graph6)"
   ]
  },
  {
   "cell_type": "code",
   "execution_count": 76,
   "metadata": {},
   "outputs": [
    {
     "data": {
      "text/plain": [
       "0.0007300618431884556"
      ]
     },
     "execution_count": 76,
     "metadata": {},
     "output_type": "execute_result"
    }
   ],
   "source": [
    "pr[1051]"
   ]
  },
  {
   "cell_type": "markdown",
   "metadata": {},
   "source": [
    "graph6 各點的 Out-Degree, In-Degree 如圖："
   ]
  },
  {
   "cell_type": "code",
   "execution_count": 77,
   "metadata": {},
   "outputs": [],
   "source": [
    "_, _, ppp, ccc = GetPC(graph6)"
   ]
  },
  {
   "cell_type": "code",
   "execution_count": 78,
   "metadata": {},
   "outputs": [
    {
     "data": {
      "image/png": "[encoded data removed]",
      "text/plain": [
       "<Figure size 1080x504 with 1 Axes>"
      ]
     },
     "metadata": {
      "needs_background": "light"
     },
     "output_type": "display_data"
    }
   ],
   "source": [
    "node_list = [i for i in range(1, NUM_OF_G6 + 1)]\n",
    "\n",
    "plt.figure(figsize=(15, 7))\n",
    "plt.bar(node_list, ccc)\n",
    "plt.title('Out-Degree of each node')\n",
    "plt.show()"
   ]
  },
  {
   "cell_type": "code",
   "execution_count": 79,
   "metadata": {},
   "outputs": [
    {
     "data": {
      "image/png": "[encoded data removed]",
      "text/plain": [
       "<Figure size 1080x504 with 1 Axes>"
      ]
     },
     "metadata": {
      "needs_background": "light"
     },
     "output_type": "display_data"
    }
   ],
   "source": [
    "plt.figure(figsize=(15, 7))\n",
    "plt.bar(node_list, ppp)\n",
    "plt.title('In-Degree of each node')\n",
    "plt.show()"
   ]
  },
  {
   "cell_type": "code",
   "execution_count": 80,
   "metadata": {},
   "outputs": [],
   "source": [
    "tmp_d = { i : c for i, c in zip(range(len(ppp)), ppp) }"
   ]
  },
  {
   "cell_type": "code",
   "execution_count": 81,
   "metadata": {},
   "outputs": [],
   "source": [
    "tmp_d = { i : c for i, c in zip(range(len(ccc)), ccc) }"
   ]
  },
  {
   "cell_type": "code",
   "execution_count": 82,
   "metadata": {},
   "outputs": [
    {
     "data": {
      "text/plain": [
       "33"
      ]
     },
     "execution_count": 82,
     "metadata": {},
     "output_type": "execute_result"
    }
   ],
   "source": [
    "tmp_d[1051]"
   ]
  },
  {
   "cell_type": "markdown",
   "metadata": {},
   "source": [
    "### Graph 7\n",
    "graph7 幾個重要的點如下：\n",
    "\n",
    "| Node| Hub | Authority | PageRank | Out-Degree| In-Degree|\n",
    "| --- | --- | --------- | -------- | --------- | -------- |\n",
    "| 38  | 1.0 | 0.0       | 3e-05    | 11        | 0\n",
    "| 3186| 0.0 | 1.0       | 0.0034   | 0 | 908\n",
    "| 2495| 0.0 | 0.2605    | 0.0085   | 0 | 557\n",
    "\n",
    "\n",
    "graph7 當中 hub, authority, PageRank 最大的前 10 點如下所示："
   ]
  },
  {
   "cell_type": "code",
   "execution_count": 83,
   "metadata": {},
   "outputs": [
    {
     "data": {
      "text/plain": [
       "array([ 223, 1060, 1207,   38,  898,  522,  162,  417,  459,  761])"
      ]
     },
     "execution_count": 83,
     "metadata": {},
     "output_type": "execute_result"
    }
   ],
   "source": [
    "authority, hub = HubsAuthorities(graph7)\n",
    "np.argsort(-hub)[:10] + 1"
   ]
  },
  {
   "cell_type": "code",
   "execution_count": 84,
   "metadata": {},
   "outputs": [
    {
     "data": {
      "text/plain": [
       "array([3186, 4750, 3159, 2372, 4995, 2315, 2199, 1040, 2495, 2872])"
      ]
     },
     "execution_count": 84,
     "metadata": {},
     "output_type": "execute_result"
    }
   ],
   "source": [
    "np.argsort(-authority)[:10] + 1"
   ]
  },
  {
   "cell_type": "code",
   "execution_count": 85,
   "metadata": {},
   "outputs": [
    {
     "data": {
      "text/plain": [
       "array([2495, 3186, 4750, 3159, 2372, 2315, 1040, 2199, 4995, 2872])"
      ]
     },
     "execution_count": 85,
     "metadata": {},
     "output_type": "execute_result"
    }
   ],
   "source": [
    "np.argsort(-PageRank(graph7))[:10] + 1"
   ]
  },
  {
   "cell_type": "code",
   "execution_count": 86,
   "metadata": {},
   "outputs": [
    {
     "data": {
      "text/plain": [
       "array([3.0030e-05, 3.0030e-05, 3.0030e-05, ..., 3.0030e-05, 3.0030e-05,\n",
       "       3.2609e-03])"
      ]
     },
     "execution_count": 86,
     "metadata": {},
     "output_type": "execute_result"
    }
   ],
   "source": [
    "pr = PageRank(graph7)\n",
    "pr"
   ]
  },
  {
   "cell_type": "code",
   "execution_count": 87,
   "metadata": {},
   "outputs": [
    {
     "data": {
      "text/plain": [
       "0.003422873462431389"
      ]
     },
     "execution_count": 87,
     "metadata": {},
     "output_type": "execute_result"
    }
   ],
   "source": [
    "pr[3185]"
   ]
  },
  {
   "cell_type": "markdown",
   "metadata": {},
   "source": [
    "graph7 各點的 Out-Degree, In-Degree 如圖："
   ]
  },
  {
   "cell_type": "code",
   "execution_count": 88,
   "metadata": {},
   "outputs": [],
   "source": [
    "_, _, ppp, ccc = GetPC(graph7)"
   ]
  },
  {
   "cell_type": "code",
   "execution_count": 89,
   "metadata": {},
   "outputs": [
    {
     "data": {
      "image/png": "[encoded data removed]",
      "text/plain": [
       "<Figure size 1080x504 with 1 Axes>"
      ]
     },
     "metadata": {
      "needs_background": "light"
     },
     "output_type": "display_data"
    }
   ],
   "source": [
    "node_list = [i for i in range(1, NUM_OF_G7 + 1)]\n",
    "\n",
    "plt.figure(figsize=(15, 7))\n",
    "plt.bar(node_list, ccc)\n",
    "plt.title('Out-Degree of each node')\n",
    "plt.show()"
   ]
  },
  {
   "cell_type": "code",
   "execution_count": 90,
   "metadata": {},
   "outputs": [
    {
     "data": {
      "image/png": "[encoded data removed]",
      "text/plain": [
       "<Figure size 1080x504 with 1 Axes>"
      ]
     },
     "metadata": {
      "needs_background": "light"
     },
     "output_type": "display_data"
    }
   ],
   "source": [
    "plt.figure(figsize=(15, 7))\n",
    "plt.bar(node_list, ppp)\n",
    "plt.title('In-Degree of each node')\n",
    "plt.show()"
   ]
  },
  {
   "cell_type": "code",
   "execution_count": 91,
   "metadata": {},
   "outputs": [],
   "source": [
    "tmp_d = { i : c for i, c in zip(range(len(ppp)), ppp) }"
   ]
  },
  {
   "cell_type": "code",
   "execution_count": 92,
   "metadata": {},
   "outputs": [],
   "source": [
    "tmp_d = { i : c for i, c in zip(range(len(ccc)), ccc) }"
   ]
  },
  {
   "cell_type": "code",
   "execution_count": 93,
   "metadata": {},
   "outputs": [
    {
     "data": {
      "text/plain": [
       "0"
      ]
     },
     "execution_count": 93,
     "metadata": {},
     "output_type": "execute_result"
    }
   ],
   "source": [
    "tmp_d[3185]"
   ]
  },
  {
   "cell_type": "code",
   "execution_count": null,
   "metadata": {},
   "outputs": [],
   "source": []
  },
  {
   "cell_type": "code",
   "execution_count": null,
   "metadata": {},
   "outputs": [],
   "source": []
  },
  {
   "cell_type": "markdown",
   "metadata": {},
   "source": [
    "## Part 4\n",
    "\n",
    "You should write a report for your system, including:\n",
    "\n",
    "* Implementation detail <br/>\n",
    "    => 如 source code 所示。\n",
    "\n",
    "* Result analysis and discussion <br/>\n",
    "    => 如上所示。\n",
    "\n",
    "* Computation performance analysis <br/>\n",
    "    => HITS: $O(||V||^2)$, PageRank: $O(||V||^2)$, SimRank: $O(||V||^4)$\n",
    "\n",
    "* Discussion (what you learned from this project and your comments about this project) <br/>\n",
    "    => 實際了解到 HITS, PageRank, SimRank 三種 link analysis 的運算過程，並確實觀察到他們迭代運算後收斂的情形。\n",
    "\n",
    "Questions & Discussion (optional, but recommended)\n",
    "\n",
    "* More limitations about link analysis algorithms\n",
    "\n",
    "* Can link analysis algorithms really find the “important” pages from Web? <br/>\n",
    "    => 有困難度。因為使用者在搜尋網頁時，往往只會下幾個關鍵字，導致很難從不相關的 webpages 中過濾出真正重要的 webpages。\n",
    "    \n",
    "* What are practical issues when implement these algorithms in a real Web?\n",
    "    * Performance discussion (time cost) <br/>\n",
    "    => transform data into a format that can be effectively used <br/>\n",
    "    => information overload\n",
    "    \n",
    "* What do the result say for your actor/movie graph?\n",
    "\n",
    "* Any new idea about the link analysis algorithm?\n",
    "\n",
    "* What is the effect of “C” parameter in SimRank? <br/>\n",
    "    => C 為 decay factor，介於0到1之間。當 C 愈大時，SimRank 值的精準度會降低，但收斂所需的迭代次數較少；反之，精準度提高，但需要較多的迭代次數才有辦法收斂。\n",
    "    \n",
    "* Design a new link-based similarity measurement"
   ]
  }
 ],
 "metadata": {
  "kernelspec": {
   "display_name": "Python 3",
   "language": "python",
   "name": "python3"
  },
  "language_info": {
   "codemirror_mode": {
    "name": "ipython",
    "version": 3
   },
   "file_extension": ".py",
   "mimetype": "text/x-python",
   "name": "python",
   "nbconvert_exporter": "python",
   "pygments_lexer": "ipython3",
   "version": "3.7.5"
  }
 },
 "nbformat": 4,
 "nbformat_minor": 2
}
