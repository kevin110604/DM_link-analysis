{
 "cells": [
  {
   "cell_type": "markdown",
   "metadata": {},
   "source": [
    "# Project 3\n",
    "\n",
    "Please implement\n",
    "* HITS and PageRank (Lecture 7, P37, random jumping probability, i.e., damping factor=0.15) and calculate authority, hub and PageRank values for the following 8 graphs\n",
    "    * 6 graphs in project3dataset\n",
    "    * 1 graphs from project1 transaction data (connect items in each row, bi-directed or directed)\n",
    "* SimRank to calculate pair-wise similarity of nodes (choice any parameter C you like) , using\n",
    "    * first 5 graphs of project3dataset.\n",
    "\n",
    "project3dataset\n",
    "* graph_1.txt: 6 nodes, 5 edges\n",
    "* graph_2.txt: 5 nodes, 5 edges (a circle)\n",
    "* graph_3.txt: 4 nodes, 6 edges\n",
    "* graph_4.txt: 7 nodes, 18 edges (the example in Lecture3, p29)\n",
    "* graph_5.txt:  469 nodes, 1102 edges\n",
    "* graph_6.txt: 1228 nodes, 5220 edges"
   ]
  },
  {
   "cell_type": "code",
   "execution_count": 1,
   "metadata": {},
   "outputs": [],
   "source": [
    "import numpy as np"
   ]
  },
  {
   "cell_type": "code",
   "execution_count": 2,
   "metadata": {},
   "outputs": [],
   "source": [
    "NUM_OF_G1 = 6\n",
    "NUM_OF_G2 = 5\n",
    "NUM_OF_G3 = 4\n",
    "NUM_OF_G4 = 7\n",
    "NUM_OF_G5 = 469\n",
    "NUM_OF_G6 = 1228\n",
    "NUM_OF_G7 = 1228\n",
    "NUM_OF_G8 = 7"
   ]
  },
  {
   "cell_type": "code",
   "execution_count": 3,
   "metadata": {},
   "outputs": [],
   "source": [
    "graph1 = np.zeros((NUM_OF_G1, NUM_OF_G1), dtype=int)\n",
    "with open('hw3dataset/graph_1.txt', 'r') as f:\n",
    "    for line in f.readlines():\n",
    "        node1, node2 = line.split(',')\n",
    "        node1, node2 = int(node1), int(node2)\n",
    "        node1, node2 = node1 - 1, node2 - 1\n",
    "        graph1[node1, node2] += 1"
   ]
  },
  {
   "cell_type": "code",
   "execution_count": 4,
   "metadata": {},
   "outputs": [],
   "source": [
    "graph2 = np.zeros((NUM_OF_G2, NUM_OF_G2), dtype=int)\n",
    "with open('hw3dataset/graph_2.txt', 'r') as f:\n",
    "    for line in f.readlines():\n",
    "        node1, node2 = line.split(',')\n",
    "        node1, node2 = int(node1), int(node2)\n",
    "        node1, node2 = node1 - 1, node2 - 1\n",
    "        graph2[node1, node2] += 1"
   ]
  },
  {
   "cell_type": "code",
   "execution_count": 5,
   "metadata": {},
   "outputs": [],
   "source": [
    "graph3 = np.zeros((NUM_OF_G3, NUM_OF_G3), dtype=int)\n",
    "with open('hw3dataset/graph_3.txt', 'r') as f:\n",
    "    for line in f.readlines():\n",
    "        node1, node2 = line.split(',')\n",
    "        node1, node2 = int(node1), int(node2)\n",
    "        node1, node2 = node1 - 1, node2 - 1\n",
    "        graph3[node1, node2] += 1"
   ]
  },
  {
   "cell_type": "code",
   "execution_count": 6,
   "metadata": {},
   "outputs": [],
   "source": [
    "graph4 = np.zeros((NUM_OF_G4, NUM_OF_G4), dtype=int)\n",
    "with open('hw3dataset/graph_4.txt', 'r') as f:\n",
    "    for line in f.readlines():\n",
    "        node1, node2 = line.split(',')\n",
    "        node1, node2 = int(node1), int(node2)\n",
    "        node1, node2 = node1 - 1, node2 - 1\n",
    "        graph4[node1, node2] += 1"
   ]
  },
  {
   "cell_type": "code",
   "execution_count": 7,
   "metadata": {},
   "outputs": [],
   "source": [
    "graph5 = np.zeros((NUM_OF_G5, NUM_OF_G5), dtype=int)\n",
    "with open('hw3dataset/graph_5.txt', 'r') as f:\n",
    "    for line in f.readlines():\n",
    "        node1, node2 = line.split(',')\n",
    "        node1, node2 = int(node1), int(node2)\n",
    "        node1, node2 = node1 - 1, node2 - 1\n",
    "        graph5[node1, node2] += 1"
   ]
  },
  {
   "cell_type": "code",
   "execution_count": 8,
   "metadata": {},
   "outputs": [],
   "source": [
    "graph6 = np.zeros((NUM_OF_G6, NUM_OF_G6), dtype=int)\n",
    "with open('hw3dataset/graph_6.txt', 'r') as f:\n",
    "    for line in f.readlines():\n",
    "        node1, node2 = line.split(',')\n",
    "        node1, node2 = int(node1), int(node2)\n",
    "        node1, node2 = node1 - 1, node2 - 1\n",
    "        graph6[node1, node2] += 1"
   ]
  },
  {
   "cell_type": "code",
   "execution_count": 9,
   "metadata": {},
   "outputs": [],
   "source": [
    "# graph7 = np.zeros((NUM_OF_G7, NUM_OF_G7), dtype=int)\n",
    "# with open('hw3dataset/graph_7.txt', 'r') as f:\n",
    "#     for line in f.readlines():\n",
    "#         node1, node2 = line.split(',')\n",
    "#         node1, node2 = int(node1), int(node2)\n",
    "#         node1, node2 = node1 - 1, node2 - 1\n",
    "#         graph7[node1, node2] += 1"
   ]
  },
  {
   "cell_type": "code",
   "execution_count": 10,
   "metadata": {},
   "outputs": [],
   "source": [
    "graph8 = np.zeros((NUM_OF_G8, NUM_OF_G8), dtype=int)\n",
    "with open('hw3dataset/graph_8.txt', 'r') as f:\n",
    "    for line in f.readlines():\n",
    "        node1, node2 = line.split(',')\n",
    "        node1, node2 = int(node1), int(node2)\n",
    "        node1, node2 = node1 - 1, node2 - 1\n",
    "        graph8[node1, node2] += 1"
   ]
  },
  {
   "cell_type": "code",
   "execution_count": 11,
   "metadata": {},
   "outputs": [],
   "source": [
    "def HubsAuthorities(graph):\n",
    "    row, col = graph.shape\n",
    "    pre_ath = pre_hub = np.ones(row)\n",
    "    epsilon = 1e-4\n",
    "    epsilon_matrix = epsilon * np.ones(row)\n",
    "    while True:\n",
    "        ath = np.dot(pre_hub, graph)    # Sum of parents' hubs\n",
    "        hub = np.dot(pre_ath, graph.T)  # Sum of children's authorities\n",
    "        ath_nor = ath.max()\n",
    "        hub_nor = hub.max()\n",
    "        if ath_nor != 0:\n",
    "            ath /= ath_nor\n",
    "        if hub_nor != 0:\n",
    "            hub /= hub_nor\n",
    "        if (((abs(hub - pre_hub)) < epsilon_matrix).all()) and (((abs(ath - pre_ath)) < epsilon_matrix).all()):\n",
    "            break\n",
    "        pre_ath = ath\n",
    "        pre_hub = hub\n",
    "    return ath, hub"
   ]
  },
  {
   "cell_type": "code",
   "execution_count": 12,
   "metadata": {
    "scrolled": false
   },
   "outputs": [
    {
     "name": "stdout",
     "output_type": "stream",
     "text": [
      "[0.6925528  0.88327064 0.99702723 0.69595035 1.         0.27848743\n",
      " 0.41746292]\n",
      "[1.         0.17340843 0.39457369 0.72120808 0.66705026 0.4238019\n",
      " 0.25039347]\n"
     ]
    }
   ],
   "source": [
    "authority, hub = HubsAuthorities(graph8)\n",
    "print(authority)\n",
    "print(hub)"
   ]
  },
  {
   "cell_type": "code",
   "execution_count": 13,
   "metadata": {},
   "outputs": [],
   "source": [
    "def PageRank_m(graph):\n",
    "    row, col = graph.shape\n",
    "    one = np.ones(row)\n",
    "    pre_r = z = one / row\n",
    "    epsilon = 1\n",
    "    # epsilon_matrix = epsilon * np.ones(row)\n",
    "    while True:\n",
    "        r = np.dot(pre_r, graph)\n",
    "        diff = pre_r - r\n",
    "        r = r + diff * z\n",
    "        delta = np.dot(abs(r - pre_r), one)\n",
    "        if delta < epsilon:\n",
    "            break\n",
    "        pre_r = r\n",
    "    return r    "
   ]
  },
  {
   "cell_type": "code",
   "execution_count": 14,
   "metadata": {},
   "outputs": [],
   "source": [
    "def PageRank_matlab(graph):\n",
    "    row, col = graph.shape\n",
    "    L = []\n",
    "    c = []\n",
    "    for i in range(0, row):\n",
    "        L.append(np.nonzero(graph[:, i])[0])  # \n",
    "        c.append(L[i].shape[0])\n",
    "    print(L)\n",
    "    print(c)\n",
    "    d = 0.15                         # damping factor\n",
    "    delta = d / row\n",
    "    x = np.ones(row) / row\n",
    "    z = np.zeros(row)\n",
    "    epsilon = 0.0001\n",
    "    while max(abs(x - z)) > epsilon:\n",
    "        z = x\n",
    "        x = np.zeros(row)\n",
    "        for j in range(0, row):\n",
    "            if c[j] == 0:\n",
    "                x = x + z[j] / row   # 轉移到任意一個網頁\n",
    "            else:\n",
    "                x[L[j]] = x[L[j]] + z[j] / c[j]  # 將上次的pagerank值平攤給所有指向的網頁\n",
    "        x = delta + (1 - d) * x\n",
    "    return x    "
   ]
  },
  {
   "cell_type": "code",
   "execution_count": 15,
   "metadata": {},
   "outputs": [],
   "source": [
    "def PageRank_matlabv2(graph):\n",
    "    row, col = graph.shape\n",
    "    L = []\n",
    "    c = []\n",
    "    for i in range(0, row):\n",
    "        L.append(np.nonzero(graph[:, i])[0])  # node i's parents\n",
    "        c.append(L[i].shape[0])               # number of parents\n",
    "    d = 0.15                         # damping factor\n",
    "    delta = d / row\n",
    "    x = np.ones(row) / row\n",
    "    z = np.zeros(row)\n",
    "    epsilon = 0.0001\n",
    "    while max(abs(x - z)) > epsilon:\n",
    "        z = x\n",
    "        x = np.zeros(row)\n",
    "        for j in range(0, row):\n",
    "            # if c[j] == 0:\n",
    "            #     x = x + z[j] / row   # 轉移到任意一個網頁\n",
    "            # else:\n",
    "            if c[j] != 0:\n",
    "                x[L[j]] = x[L[j]] + z[j] / c[j]  # 將上次的pagerank值平攤給所有指向的網頁\n",
    "        # x = delta + (1 - d) * x\n",
    "    return x "
   ]
  },
  {
   "cell_type": "code",
   "execution_count": 16,
   "metadata": {},
   "outputs": [],
   "source": [
    "def PageRank_what(graph):\n",
    "    row, col = graph.shape\n",
    "    L = []\n",
    "    c = []\n",
    "    for i in range(0, row):\n",
    "        L.append(np.nonzero(graph[:, i])[0])\n",
    "        c.append(L[i].shape[0])\n",
    "    # d = 0.15                         # damping factor\n",
    "    # delta = d / row\n",
    "    x = np.ones(row) / row\n",
    "    z = np.zeros(row)\n",
    "    epsilon = 0.0001\n",
    "    while max(abs(x - z)) > epsilon:\n",
    "        z = x\n",
    "        x = np.zeros(row)\n",
    "        for j in range(0, row):\n",
    "            if c[j] != 0:\n",
    "                # print(x[L[j]])\n",
    "                # print(z[j])\n",
    "                x[j] = np.sum(x[L[j]] + z[j] / c[j])  # 將上次的pagerank值平攤給所有指向的網頁\n",
    "                # break\n",
    "        # x = delta + (1 - d) * x\n",
    "    return x    "
   ]
  },
  {
   "cell_type": "code",
   "execution_count": 17,
   "metadata": {},
   "outputs": [],
   "source": [
    "def PageRank(graph, d=0.15, epsilon = 0.0001):\n",
    "    row, col = graph.shape\n",
    "    L = []\n",
    "    p = []\n",
    "    c = []\n",
    "    for i in range(0, row):\n",
    "        L.append(np.nonzero(graph[:, i])[0])   # get node i's parents\n",
    "        children = np.nonzero(graph[i, :])[0]  # get node i's children\n",
    "        p.append(children.shape[0])            # number of node i's parents\n",
    "        c.append(children.shape[0])            # number of node i's children\n",
    "    c = np.array(c)\n",
    "    delta = d / row                            # d: damping factor\n",
    "    x = np.ones(row) / row\n",
    "    z = np.zeros(row)\n",
    "    while max(abs(x - z)) > epsilon:\n",
    "        z = x\n",
    "        x = np.zeros(row)\n",
    "        for j in range(0, row):\n",
    "            if p[j] != 0:\n",
    "                x[j] = np.sum(z[L[j]] / c[L[j]])  # \n",
    "        x = delta + (1 - d) * x\n",
    "    return x "
   ]
  },
  {
   "cell_type": "code",
   "execution_count": 18,
   "metadata": {},
   "outputs": [
    {
     "data": {
      "text/plain": [
       "array([0.025     , 0.04625   , 0.0643125 , 0.07966562, 0.09271578,\n",
       "       0.025     ])"
      ]
     },
     "execution_count": 18,
     "metadata": {},
     "output_type": "execute_result"
    }
   ],
   "source": [
    "PageRank(graph1)"
   ]
  },
  {
   "cell_type": "code",
   "execution_count": 19,
   "metadata": {},
   "outputs": [
    {
     "data": {
      "text/plain": [
       "array([0.2, 0.2, 0.2, 0.2, 0.2])"
      ]
     },
     "execution_count": 19,
     "metadata": {},
     "output_type": "execute_result"
    }
   ],
   "source": [
    "PageRank(graph2)"
   ]
  },
  {
   "cell_type": "code",
   "execution_count": 20,
   "metadata": {},
   "outputs": [
    {
     "data": {
      "text/plain": [
       "array([0.17545293, 0.32454707, 0.32454707, 0.17545293])"
      ]
     },
     "execution_count": 20,
     "metadata": {},
     "output_type": "execute_result"
    }
   ],
   "source": [
    "PageRank(graph3)"
   ]
  },
  {
   "cell_type": "code",
   "execution_count": 21,
   "metadata": {},
   "outputs": [
    {
     "data": {
      "text/plain": [
       "array([0.28030889, 0.15875323, 0.1388805 , 0.10822254, 0.18418373,\n",
       "       0.06057982, 0.06907129])"
      ]
     },
     "execution_count": 21,
     "metadata": {},
     "output_type": "execute_result"
    }
   ],
   "source": [
    "PageRank(graph4)"
   ]
  },
  {
   "cell_type": "code",
   "execution_count": 22,
   "metadata": {},
   "outputs": [
    {
     "data": {
      "text/plain": [
       "array([0.00031983, 0.00031983, 0.00031983, 0.00031983, 0.00031983,\n",
       "       0.00036514, 0.00034701, 0.00031983, 0.00031983, 0.00031983,\n",
       "       0.00035867, 0.00034701, 0.00038779, 0.00031983, 0.00031983,\n",
       "       0.00031983, 0.00031983, 0.00031983, 0.00031983, 0.00031983,\n",
       "       0.00031983, 0.00031983, 0.00031983, 0.00031983, 0.00031983,\n",
       "       0.00031983, 0.00036955, 0.00031983, 0.00031983, 0.00031983,\n",
       "       0.00039025, 0.00031983, 0.00031983, 0.00044994, 0.00031983,\n",
       "       0.00031983, 0.00035096, 0.00032963, 0.00031983, 0.00031983,\n",
       "       0.00031983, 0.00031983, 0.00080821, 0.00031983, 0.00031983,\n",
       "       0.00031983, 0.00045036, 0.00031983, 0.00031983, 0.00031983,\n",
       "       0.00031983, 0.00031983, 0.00031983, 0.00031983, 0.00031983,\n",
       "       0.0003354 , 0.00031983, 0.00036952, 0.00031983, 0.0004779 ,\n",
       "       0.00031983, 0.00031983, 0.00031983, 0.00031983, 0.00031983,\n",
       "       0.00031983, 0.00031983, 0.00031983, 0.00031983, 0.00052627,\n",
       "       0.00031983, 0.00044994, 0.00031983, 0.00031983, 0.00031983,\n",
       "       0.00031983, 0.00031983, 0.00031983, 0.00031983, 0.00031983,\n",
       "       0.00043226, 0.00031983, 0.00031983, 0.00038287, 0.00035733,\n",
       "       0.00031983, 0.00031983, 0.00031983, 0.00031983, 0.00031983,\n",
       "       0.00031983, 0.00031983, 0.00031983, 0.00089463, 0.00032963,\n",
       "       0.00125113, 0.00031983, 0.00031983, 0.00031983, 0.00031983,\n",
       "       0.00031983, 0.00031983, 0.00033851, 0.00031983, 0.00031983,\n",
       "       0.00039025, 0.00031983, 0.00031983, 0.00050415, 0.00031983,\n",
       "       0.00031983, 0.00031983, 0.00036811, 0.00031983, 0.00032963,\n",
       "       0.00031983, 0.00031983, 0.00031983, 0.00037905, 0.00031983,\n",
       "       0.00031983, 0.00031983, 0.00031983, 0.00037788, 0.00031983,\n",
       "       0.00031983, 0.00031983, 0.00031983, 0.00031983, 0.00052897,\n",
       "       0.00036955, 0.00031983, 0.00031983, 0.00092412, 0.00031983,\n",
       "       0.00031983, 0.00031983, 0.00031983, 0.00031983, 0.00031983,\n",
       "       0.00057931, 0.00031983, 0.00040991, 0.00031983, 0.00031983,\n",
       "       0.00031983, 0.00031983, 0.00122782, 0.00031983, 0.00031983,\n",
       "       0.00031983, 0.00073696, 0.00031983, 0.00031983, 0.00031983,\n",
       "       0.00031983, 0.00031983, 0.00031983, 0.00031983, 0.00031983,\n",
       "       0.00031983, 0.00048464, 0.00031983, 0.00031983, 0.00031983,\n",
       "       0.00031983, 0.00031983, 0.00031983, 0.00031983, 0.00031983,\n",
       "       0.00031983, 0.00031983, 0.00031983, 0.00042108, 0.00031983,\n",
       "       0.00032963, 0.00031983, 0.00031983, 0.00032963, 0.00031983,\n",
       "       0.00031983, 0.00032963, 0.00031983, 0.00040125, 0.00148307,\n",
       "       0.00032963, 0.00031983, 0.00031983, 0.00031983, 0.00031983,\n",
       "       0.00031983, 0.00039683, 0.00031983, 0.00031983, 0.00031983,\n",
       "       0.00031983, 0.00031983, 0.00031983, 0.0003808 , 0.00031983,\n",
       "       0.00031983, 0.00057358, 0.00031983, 0.00079006, 0.00031983,\n",
       "       0.00031983, 0.00031983, 0.00031983, 0.00031983, 0.00031983,\n",
       "       0.00031983, 0.00158959, 0.00031983, 0.00031983, 0.00031983,\n",
       "       0.00031983, 0.00031983, 0.00031983, 0.0004592 , 0.00031983,\n",
       "       0.00036811, 0.00039025, 0.00040948, 0.00035496, 0.00031983,\n",
       "       0.00031983, 0.00041397, 0.00031983, 0.00031983, 0.00031983,\n",
       "       0.00031983, 0.00031983, 0.00031983, 0.00031983, 0.0004592 ,\n",
       "       0.00034318, 0.00031983, 0.00031983, 0.00031983, 0.00031983,\n",
       "       0.00031983, 0.00031983, 0.00031983, 0.00031983, 0.00031983,\n",
       "       0.00031983, 0.00031983, 0.00031983, 0.00071622, 0.00031983,\n",
       "       0.00031983, 0.00031983, 0.00048701, 0.00032963, 0.00031983,\n",
       "       0.00031983, 0.00031983, 0.00041407, 0.00051364, 0.00031983,\n",
       "       0.0003354 , 0.00031983, 0.00031983, 0.00073254, 0.00067359,\n",
       "       0.00031983, 0.00031983, 0.00031983, 0.00031983, 0.00031983,\n",
       "       0.00031983, 0.00031983, 0.0005768 , 0.00041444, 0.00031983,\n",
       "       0.00031983, 0.00077206, 0.00031983, 0.00031983, 0.00031983,\n",
       "       0.00031983, 0.00031983, 0.00032963, 0.0003354 , 0.00035755,\n",
       "       0.00031983, 0.00031983, 0.00031983, 0.00031983, 0.00031983,\n",
       "       0.00031983, 0.00031983, 0.00032963, 0.00031983, 0.00031983,\n",
       "       0.00031983, 0.00039989, 0.00031983, 0.00039746, 0.00058809,\n",
       "       0.00031983, 0.00031983, 0.00035733, 0.00031983, 0.00031983,\n",
       "       0.0003832 , 0.00055566, 0.00031983, 0.00031983, 0.00031983,\n",
       "       0.00031983, 0.00031983, 0.00031983, 0.00031983, 0.00042601,\n",
       "       0.00031983, 0.00031983, 0.00031983, 0.00031983, 0.00031983,\n",
       "       0.00045631, 0.00031983, 0.00047047, 0.00031983, 0.00146785,\n",
       "       0.0006141 , 0.00078068, 0.00031983, 0.00031983, 0.00031983,\n",
       "       0.00031983, 0.00031983, 0.00031983, 0.00031983, 0.00031983,\n",
       "       0.00031983, 0.00031983, 0.00031983, 0.00031983, 0.00031983,\n",
       "       0.00031983, 0.00031983, 0.00031983, 0.00041012, 0.00036811,\n",
       "       0.00031983, 0.00031983, 0.00140185, 0.00031983, 0.00031983,\n",
       "       0.00041012, 0.00031983, 0.00031983, 0.00031983, 0.00031983,\n",
       "       0.00031983, 0.00031983, 0.00031983, 0.00031983, 0.00031983,\n",
       "       0.00031983, 0.00031983, 0.00075113, 0.00031983, 0.00031983,\n",
       "       0.00031983, 0.00031983, 0.00031983, 0.00040922, 0.00031983,\n",
       "       0.00032963, 0.00031983, 0.00031983, 0.00031983, 0.00031983,\n",
       "       0.00031983, 0.00031983, 0.00031983, 0.00031983, 0.00046388,\n",
       "       0.0006947 , 0.00031983, 0.00031983, 0.00031983, 0.00031983,\n",
       "       0.00074129, 0.00031983, 0.00031983, 0.00031983, 0.00031983,\n",
       "       0.00031983, 0.00031983, 0.00031983, 0.00031983, 0.00031983,\n",
       "       0.00039025, 0.00031983, 0.00031983, 0.00045036, 0.00031983,\n",
       "       0.00031983, 0.00031983, 0.00031983, 0.00031983, 0.00031983,\n",
       "       0.00031983, 0.00031983, 0.00031983, 0.00031983, 0.00031983,\n",
       "       0.00031983, 0.00043801, 0.00068088, 0.0003808 , 0.00031983,\n",
       "       0.00041444, 0.00031983, 0.00031983, 0.00031983, 0.00031983,\n",
       "       0.00036619, 0.00031983, 0.00031983, 0.00031983, 0.00031983,\n",
       "       0.00035496, 0.00031983, 0.00031983, 0.00031983, 0.00031983,\n",
       "       0.00031983, 0.00031983, 0.00031983, 0.00031983, 0.00031983,\n",
       "       0.00031983, 0.00031983, 0.00031983, 0.00053385, 0.00041444,\n",
       "       0.00031983, 0.00031983, 0.00033851, 0.00031983, 0.00031983,\n",
       "       0.00031983, 0.00031983, 0.00036417, 0.00031983, 0.00032963,\n",
       "       0.00031983, 0.00031983, 0.00031983, 0.00076103, 0.00031983,\n",
       "       0.00032963, 0.00031983, 0.00032963, 0.00031983, 0.00031983,\n",
       "       0.00031983, 0.00031983, 0.0004194 , 0.00031983, 0.00031983,\n",
       "       0.00031983, 0.00031983, 0.00053595, 0.00031983])"
      ]
     },
     "execution_count": 22,
     "metadata": {},
     "output_type": "execute_result"
    }
   ],
   "source": [
    "PageRank(graph5)"
   ]
  },
  {
   "cell_type": "code",
   "execution_count": 23,
   "metadata": {},
   "outputs": [
    {
     "data": {
      "text/plain": [
       "array([0.00012215, 0.00012215, 0.00012215, ..., 0.00012215, 0.00039077,\n",
       "       0.00012215])"
      ]
     },
     "execution_count": 23,
     "metadata": {},
     "output_type": "execute_result"
    }
   ],
   "source": [
    "PageRank(graph6)"
   ]
  },
  {
   "cell_type": "code",
   "execution_count": 24,
   "metadata": {},
   "outputs": [
    {
     "data": {
      "text/plain": [
       "array([0.30350624, 0.16613374, 0.14057886, 0.10543791, 0.17890534,\n",
       "       0.04472903, 0.06070888])"
      ]
     },
     "execution_count": 24,
     "metadata": {},
     "output_type": "execute_result"
    }
   ],
   "source": [
    "PageRank(graph8, d=0)"
   ]
  },
  {
   "cell_type": "markdown",
   "metadata": {},
   "source": [
    "Find a way (e.g., add/delete some links) to increase hub, authority, and PageRank of Node 1 in first 3 graphs respectively."
   ]
  },
  {
   "cell_type": "code",
   "execution_count": null,
   "metadata": {},
   "outputs": [],
   "source": []
  },
  {
   "cell_type": "code",
   "execution_count": null,
   "metadata": {},
   "outputs": [],
   "source": []
  },
  {
   "cell_type": "code",
   "execution_count": null,
   "metadata": {},
   "outputs": [],
   "source": []
  },
  {
   "cell_type": "code",
   "execution_count": null,
   "metadata": {},
   "outputs": [],
   "source": []
  }
 ],
 "metadata": {
  "kernelspec": {
   "display_name": "Python 3",
   "language": "python",
   "name": "python3"
  },
  "language_info": {
   "codemirror_mode": {
    "name": "ipython",
    "version": 3
   },
   "file_extension": ".py",
   "mimetype": "text/x-python",
   "name": "python",
   "nbconvert_exporter": "python",
   "pygments_lexer": "ipython3",
   "version": "3.7.5"
  }
 },
 "nbformat": 4,
 "nbformat_minor": 2
}
